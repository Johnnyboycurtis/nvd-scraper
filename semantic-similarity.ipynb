{
 "cells": [
  {
   "cell_type": "markdown",
   "metadata": {},
   "source": [
    "# PyTorch Transformers\n",
    "\n",
    "We need to compare if the NVD CVE description matches text from web scraping per HTML tag. Unfortunately, messy but fast enough for what I need\n",
    "\n"
   ]
  },
  {
   "cell_type": "code",
   "execution_count": 1,
   "metadata": {},
   "outputs": [],
   "source": [
    "from sentence_transformers import SentenceTransformer, util\n",
    "import numpy as np"
   ]
  },
  {
   "cell_type": "markdown",
   "metadata": {},
   "source": [
    "## Reference\n",
    "\n",
    "[Semantic Similarity Using Transformers](https://towardsdatascience.com/semantic-similarity-using-transformers-8f3cb5bf66d6)\n",
    "\n"
   ]
  },
  {
   "cell_type": "code",
   "execution_count": 2,
   "metadata": {},
   "outputs": [],
   "source": [
    "model = SentenceTransformer('stsb-roberta-large')\n"
   ]
  },
  {
   "cell_type": "code",
   "execution_count": 3,
   "metadata": {},
   "outputs": [
    {
     "name": "stdout",
     "output_type": "stream",
     "text": [
      "Sentence 1: I like Python because I can build AI applications\n",
      "Sentence 2: I like Python because I can do data analytics\n",
      "Similarity score: 0.8015279173851013\n"
     ]
    }
   ],
   "source": [
    "sentence1 = \"I like Python because I can build AI applications\"\n",
    "sentence2 = \"I like Python because I can do data analytics\"\n",
    "# encode sentences to get their embeddings\n",
    "embedding1 = model.encode(sentence1, convert_to_tensor=True)\n",
    "embedding2 = model.encode(sentence2, convert_to_tensor=True)\n",
    "# compute similarity scores of two embeddings\n",
    "cosine_scores = util.pytorch_cos_sim(embedding1, embedding2)\n",
    "print(\"Sentence 1:\", sentence1)\n",
    "print(\"Sentence 2:\", sentence2)\n",
    "print(\"Similarity score:\", cosine_scores.item())"
   ]
  },
  {
   "cell_type": "code",
   "execution_count": null,
   "metadata": {},
   "outputs": [],
   "source": []
  },
  {
   "cell_type": "code",
   "execution_count": 4,
   "metadata": {},
   "outputs": [],
   "source": [
    "nvd_description = \"\"\"CVE-2023-35141. In Jenkins 2.399 and earlier, LTS 2.387.3 and earlier, POST requests are sent in order to load the list of context actions. If part of the URL includes insufficiently escaped user-provided values, a victim may be tricked into sending a POST request to an unexpected endpoint by opening a context menu.\"\"\"\n",
    "\n",
    "html_description = \"\"\"BERT for Sentence Similarity. So far, so good, but these transformer models had on\"\"\""
   ]
  },
  {
   "cell_type": "code",
   "execution_count": 5,
   "metadata": {},
   "outputs": [
    {
     "name": "stdout",
     "output_type": "stream",
     "text": [
      "Similarity score: 0.1689935177564621\n"
     ]
    }
   ],
   "source": [
    "# encode sentences to get their embeddings\n",
    "embedding1 = model.encode(nvd_description, convert_to_tensor=True)\n",
    "embedding2 = model.encode(html_description, convert_to_tensor=True)\n",
    "# compute similarity scores of two embeddings\n",
    "cosine_scores = util.pytorch_cos_sim(embedding1, embedding2)\n",
    "print(\"Similarity score:\", cosine_scores.item())"
   ]
  },
  {
   "cell_type": "code",
   "execution_count": null,
   "metadata": {},
   "outputs": [],
   "source": []
  },
  {
   "cell_type": "code",
   "execution_count": 6,
   "metadata": {},
   "outputs": [
    {
     "data": {
      "text/plain": [
       "['Descriptions ',\n",
       " 'Descriptions ',\n",
       " 'CSRF protection bypass vulnerability ',\n",
       " 'SECURITY-3135 / CVE-2023-35141',\n",
       " 'Severity (CVSS): High',\n",
       " 'Description:',\n",
       " 'Jenkins provides context menus for various UI elements, like links to jobs and builds, or breadcrumbs.',\n",
       " '',\n",
       " 'In Jenkins 2.399 and earlier, LTS 2.387.3 and earlier, POST requests are sent in order to load the list of context actions. If part of the URL includes insufficiently escaped user-provided values, a victim may be tricked into sending a POST request to an unexpected endpoint (e.g., the Script Console) by opening a context menu.',\n",
       " '',\n",
       " 'As of publication of this advisory, we are aware of insufficiently escaped context menu URLs for label expressions, allowing attackers with Item/Configure permissions to exploit this vulnerability.',\n",
       " '',\n",
       " 'Jenkins 2.400, LTS 2.401.1 sends GET requests to load the list of context actions.',\n",
       " '',\n",
       " 'SSL/TLS certificate validation disabled by default in Checkmarx Plugin ',\n",
       " 'SECURITY-2870 / CVE-2023-35142',\n",
       " 'Severity (CVSS): Medium',\n",
       " 'Affected plugin: checkmarx',\n",
       " 'Description:',\n",
       " 'Checkmarx Plugin allows to globally enable or disable SSL/TLS validation for connections to the Checkmarx server. Checkmarx Plugin 2022.4.3 and earlier disables it by default. Unless changed by an administrator, it would cause all connections to the Checkmarx server to ignore SSL/TLS validation, thereby enabling potential man-in-the-middle attacks.',\n",
       " '',\n",
       " 'Checkmarx Plugin 2023.2.6 enables SSL/TLS validation by default. Administrators who do not want SSL/TLS validation for connections to the Checkmarx server to be disabled are advised to review their configuration.',\n",
       " '',\n",
       " 'Missing permission checks in Team Concert Plugin ',\n",
       " 'SECURITY-2932 / CVE-2023-3315',\n",
       " 'Severity (CVSS): Medium',\n",
       " 'Affected plugin: teamconcert',\n",
       " 'Description:',\n",
       " 'Team Concert Plugin 2.4.1 and earlier does not perform permission checks in methods implementing form validation.',\n",
       " '',\n",
       " 'This allows attackers with Overall/Read permission to check for the existence of an attacker-specified file path on the Jenkins controller file system.',\n",
       " '',\n",
       " 'Team Concert Plugin 2.4.2 requires Overall/Administer permission for the affected form validation methods.',\n",
       " '',\n",
       " 'Missing permission check in Dimensions Plugin allows enumerating credentials IDs ',\n",
       " 'SECURITY-3138 / CVE-2023-32261',\n",
       " 'Severity (CVSS): Medium',\n",
       " 'Affected plugin: dimensionsscm',\n",
       " 'Description:',\n",
       " 'Dimensions Plugin 0.9.3 and earlier does not perform a permission check in an HTTP endpoint.',\n",
       " '',\n",
       " 'This allows attackers with Overall/Read permission to enumerate credentials IDs of credentials stored in Jenkins. Those can be used as part of an attack to capture the credentials using another vulnerability.',\n",
       " '',\n",
       " 'An enumeration of credentials IDs in Dimensions Plugin 0.9.3.1 requires the appropriate permissions.',\n",
       " '',\n",
       " 'Exposure of system-scoped credentials in Dimensions Plugin ',\n",
       " 'SECURITY-3143 / CVE-2023-32262',\n",
       " 'Severity (CVSS): Medium',\n",
       " 'Affected plugin: dimensionsscm',\n",
       " 'Description:',\n",
       " 'Dimensions Plugin 0.9.3 and earlier does not set the appropriate context for credentials lookup, allowing the use of System-scoped credentials otherwise reserved for the global configuration.',\n",
       " '',\n",
       " 'This allows attackers with Item/Configure permission to access and capture credentials they are not entitled to.',\n",
       " '',\n",
       " 'Dimensions Plugin 0.9.3.1 defines the appropriate context for credentials lookup.',\n",
       " '']"
      ]
     },
     "execution_count": 6,
     "metadata": {},
     "output_type": "execute_result"
    }
   ],
   "source": [
    "section = \"\"\"Descriptions \n",
    "Descriptions \n",
    "CSRF protection bypass vulnerability \n",
    "SECURITY-3135 / CVE-2023-35141\n",
    "Severity (CVSS): High\n",
    "Description:\n",
    "Jenkins provides context menus for various UI elements, like links to jobs and builds, or breadcrumbs.\n",
    "\n",
    "In Jenkins 2.399 and earlier, LTS 2.387.3 and earlier, POST requests are sent in order to load the list of context actions. If part of the URL includes insufficiently escaped user-provided values, a victim may be tricked into sending a POST request to an unexpected endpoint (e.g., the Script Console) by opening a context menu.\n",
    "\n",
    "As of publication of this advisory, we are aware of insufficiently escaped context menu URLs for label expressions, allowing attackers with Item/Configure permissions to exploit this vulnerability.\n",
    "\n",
    "Jenkins 2.400, LTS 2.401.1 sends GET requests to load the list of context actions.\n",
    "\n",
    "SSL/TLS certificate validation disabled by default in Checkmarx Plugin \n",
    "SECURITY-2870 / CVE-2023-35142\n",
    "Severity (CVSS): Medium\n",
    "Affected plugin: checkmarx\n",
    "Description:\n",
    "Checkmarx Plugin allows to globally enable or disable SSL/TLS validation for connections to the Checkmarx server. Checkmarx Plugin 2022.4.3 and earlier disables it by default. Unless changed by an administrator, it would cause all connections to the Checkmarx server to ignore SSL/TLS validation, thereby enabling potential man-in-the-middle attacks.\n",
    "\n",
    "Checkmarx Plugin 2023.2.6 enables SSL/TLS validation by default. Administrators who do not want SSL/TLS validation for connections to the Checkmarx server to be disabled are advised to review their configuration.\n",
    "\n",
    "Missing permission checks in Team Concert Plugin \n",
    "SECURITY-2932 / CVE-2023-3315\n",
    "Severity (CVSS): Medium\n",
    "Affected plugin: teamconcert\n",
    "Description:\n",
    "Team Concert Plugin 2.4.1 and earlier does not perform permission checks in methods implementing form validation.\n",
    "\n",
    "This allows attackers with Overall/Read permission to check for the existence of an attacker-specified file path on the Jenkins controller file system.\n",
    "\n",
    "Team Concert Plugin 2.4.2 requires Overall/Administer permission for the affected form validation methods.\n",
    "\n",
    "Missing permission check in Dimensions Plugin allows enumerating credentials IDs \n",
    "SECURITY-3138 / CVE-2023-32261\n",
    "Severity (CVSS): Medium\n",
    "Affected plugin: dimensionsscm\n",
    "Description:\n",
    "Dimensions Plugin 0.9.3 and earlier does not perform a permission check in an HTTP endpoint.\n",
    "\n",
    "This allows attackers with Overall/Read permission to enumerate credentials IDs of credentials stored in Jenkins. Those can be used as part of an attack to capture the credentials using another vulnerability.\n",
    "\n",
    "An enumeration of credentials IDs in Dimensions Plugin 0.9.3.1 requires the appropriate permissions.\n",
    "\n",
    "Exposure of system-scoped credentials in Dimensions Plugin \n",
    "SECURITY-3143 / CVE-2023-32262\n",
    "Severity (CVSS): Medium\n",
    "Affected plugin: dimensionsscm\n",
    "Description:\n",
    "Dimensions Plugin 0.9.3 and earlier does not set the appropriate context for credentials lookup, allowing the use of System-scoped credentials otherwise reserved for the global configuration.\n",
    "\n",
    "This allows attackers with Item/Configure permission to access and capture credentials they are not entitled to.\n",
    "\n",
    "Dimensions Plugin 0.9.3.1 defines the appropriate context for credentials lookup.\n",
    "\"\"\".split('\\n')\n",
    "\n",
    "section"
   ]
  },
  {
   "cell_type": "code",
   "execution_count": 7,
   "metadata": {},
   "outputs": [
    {
     "name": "stdout",
     "output_type": "stream",
     "text": [
      "0  -  tensor([[0.2129]]) Descriptions \n",
      "1  -  tensor([[0.2129]]) Descriptions \n",
      "2  -  tensor([[0.3670]]) CSRF protection bypass vulnerability \n",
      "3  -  tensor([[0.5066]]) SECURITY-3135 / CVE-2023-35141\n",
      "4  -  tensor([[0.0836]]) Severity (CVSS): High\n",
      "5  -  tensor([[0.1312]]) Description:\n",
      "6  -  tensor([[0.3685]]) Jenkins provides context menus for various UI elements, like links to jobs and builds, or breadcrumbs.\n",
      "8  -  tensor([[0.9248]]) In Jenkins 2.399 and earlier, LTS 2.387.3 and earlier, POST requests are sent in order to load the list of context actions. If part of the URL includes insufficiently escaped user-provided values, a victim may be tricked into sending a POST request to an unexpected endpoint (e.g., the Script Console) by opening a context menu.\n",
      "10  -  tensor([[0.5226]]) As of publication of this advisory, we are aware of insufficiently escaped context menu URLs for label expressions, allowing attackers with Item/Configure permissions to exploit this vulnerability.\n",
      "12  -  tensor([[0.4651]]) Jenkins 2.400, LTS 2.401.1 sends GET requests to load the list of context actions.\n",
      "14  -  tensor([[0.3086]]) SSL/TLS certificate validation disabled by default in Checkmarx Plugin \n",
      "15  -  tensor([[0.3883]]) SECURITY-2870 / CVE-2023-35142\n",
      "16  -  tensor([[0.0554]]) Severity (CVSS): Medium\n",
      "17  -  tensor([[0.2768]]) Affected plugin: checkmarx\n",
      "18  -  tensor([[0.1312]]) Description:\n",
      "19  -  tensor([[0.5478]]) Checkmarx Plugin allows to globally enable or disable SSL/TLS validation for connections to the Checkmarx server. Checkmarx Plugin 2022.4.3 and earlier disables it by default. Unless changed by an administrator, it would cause all connections to the Checkmarx server to ignore SSL/TLS validation, thereby enabling potential man-in-the-middle attacks.\n",
      "21  -  tensor([[0.3715]]) Checkmarx Plugin 2023.2.6 enables SSL/TLS validation by default. Administrators who do not want SSL/TLS validation for connections to the Checkmarx server to be disabled are advised to review their configuration.\n",
      "23  -  tensor([[0.3619]]) Missing permission checks in Team Concert Plugin \n",
      "24  -  tensor([[0.3475]]) SECURITY-2932 / CVE-2023-3315\n",
      "25  -  tensor([[0.0554]]) Severity (CVSS): Medium\n",
      "26  -  tensor([[0.0801]]) Affected plugin: teamconcert\n",
      "27  -  tensor([[0.1312]]) Description:\n",
      "28  -  tensor([[0.3036]]) Team Concert Plugin 2.4.1 and earlier does not perform permission checks in methods implementing form validation.\n",
      "30  -  tensor([[0.5630]]) This allows attackers with Overall/Read permission to check for the existence of an attacker-specified file path on the Jenkins controller file system.\n",
      "32  -  tensor([[0.2200]]) Team Concert Plugin 2.4.2 requires Overall/Administer permission for the affected form validation methods.\n",
      "34  -  tensor([[0.5025]]) Missing permission check in Dimensions Plugin allows enumerating credentials IDs \n",
      "35  -  tensor([[0.3969]]) SECURITY-3138 / CVE-2023-32261\n",
      "36  -  tensor([[0.0554]]) Severity (CVSS): Medium\n",
      "37  -  tensor([[0.2591]]) Affected plugin: dimensionsscm\n",
      "38  -  tensor([[0.1312]]) Description:\n",
      "39  -  tensor([[0.4735]]) Dimensions Plugin 0.9.3 and earlier does not perform a permission check in an HTTP endpoint.\n",
      "41  -  tensor([[0.6027]]) This allows attackers with Overall/Read permission to enumerate credentials IDs of credentials stored in Jenkins. Those can be used as part of an attack to capture the credentials using another vulnerability.\n",
      "43  -  tensor([[0.3646]]) An enumeration of credentials IDs in Dimensions Plugin 0.9.3.1 requires the appropriate permissions.\n",
      "45  -  tensor([[0.2452]]) Exposure of system-scoped credentials in Dimensions Plugin \n",
      "46  -  tensor([[0.3912]]) SECURITY-3143 / CVE-2023-32262\n",
      "47  -  tensor([[0.0554]]) Severity (CVSS): Medium\n",
      "48  -  tensor([[0.2591]]) Affected plugin: dimensionsscm\n",
      "49  -  tensor([[0.1312]]) Description:\n",
      "50  -  tensor([[0.4875]]) Dimensions Plugin 0.9.3 and earlier does not set the appropriate context for credentials lookup, allowing the use of System-scoped credentials otherwise reserved for the global configuration.\n",
      "52  -  tensor([[0.4738]]) This allows attackers with Item/Configure permission to access and capture credentials they are not entitled to.\n",
      "54  -  tensor([[0.4040]]) Dimensions Plugin 0.9.3.1 defines the appropriate context for credentials lookup.\n"
     ]
    }
   ],
   "source": [
    "scores = []\n",
    "for i, line in enumerate(section):\n",
    "    if line:\n",
    "        embedding2 = model.encode(line, convert_to_tensor=True)\n",
    "        # compute similarity scores of two embeddings\n",
    "        cosine_scores = util.pytorch_cos_sim(embedding1, embedding2)\n",
    "        print(i, ' - ', cosine_scores, line)\n",
    "        scores.append((i, cosine_scores))"
   ]
  },
  {
   "cell_type": "code",
   "execution_count": null,
   "metadata": {},
   "outputs": [],
   "source": []
  },
  {
   "cell_type": "markdown",
   "metadata": {},
   "source": [
    "What I will do is look at the sentence/tag with the highest score (if the score is above 80%). I will grab the paragraph text above and below that tag (3 tags in total). THen return that data as the article.\n",
    "\n",
    "\n",
    "So let's demo this\n"
   ]
  },
  {
   "cell_type": "code",
   "execution_count": null,
   "metadata": {},
   "outputs": [],
   "source": []
  },
  {
   "cell_type": "code",
   "execution_count": 20,
   "metadata": {},
   "outputs": [],
   "source": [
    "\"\"\"\n",
    "Vendor Articles from CVEs\n",
    "\"\"\"\n",
    "\n",
    "import pandas as pd\n",
    "import requests\n",
    "from bs4 import BeautifulSoup\n",
    "import re\n",
    "\n",
    "spaces_pattern = re.compile('\\s+') # remove new lines \\n and \\t\n",
    "\n",
    "URL = \"https://www.jenkins.io/security/advisory/2023-06-14/\"\n",
    "\n",
    "\n",
    "\n",
    "def request_articles(url_list):\n",
    "    soup_list = []\n",
    "    for url in url_list:\n",
    "        soup = beautiful_request(url)\n",
    "        soup_list.append(soup)\n",
    "    return request_articles\n",
    "\n",
    "\n",
    "def beautiful_request(url):\n",
    "    response = requests.get(url = url, timeout=(4, 5))\n",
    "    # Before passing response.text to Beautifulsoup\n",
    "    # we need to remove any \\n that are within sentences and\n",
    "    # unrelated to HTML new lines\n",
    "    soup = BeautifulSoup(response.text.replace('.\\n', '. '))\n",
    "    # does this after is trickier...or at least requires more thought\n",
    "    # this is faster for now...\n",
    "    return soup\n",
    "\n",
    "\n",
    "def spaces_filter(text_list):\n",
    "    # ['this', ' ', ' ', 'that', 'this']\n",
    "    return len(text_list) > 0\n",
    "\n",
    "\n",
    "def word_count(text):\n",
    "    text_list = text.split(' ') # get rid of extra spaces so they don't count\n",
    "    text_list = list(filter(spaces_filter, text_list))\n",
    "    return len(text_list)\n",
    "\n",
    "\n",
    "def word_count_filter(text):\n",
    "    n = word_count(text)\n",
    "    return n > 3\n",
    "\n",
    "\n",
    "def text_prep(soup):\n",
    "    # we get all this html code, let's just grab the text\n",
    "    text = soup.text.split('\\n')\n",
    "    #text # we get a lot of empty junk, so filter it out\n",
    "    text = list(filter(spaces_filter, text))\n",
    "    text = list(filter(word_count_filter, text)) # should I combine this with the above?\n",
    "    text_list = text\n",
    "    return text_list\n",
    "\n",
    "def remove_newlines(text):\n",
    "    # remove \\n and \\t\n",
    "    text = re.sub(spaces_pattern, ' ', text)\n",
    "    return text\n",
    "\n",
    "\n",
    "def find_text_similarity(nvd_description, text_list):\n",
    "    embedding1 = model.encode(nvd_description, convert_to_tensor=True)\n",
    "    scores = []\n",
    "    for i, line in enumerate(text_list):\n",
    "        embedding2 = model.encode(line, convert_to_tensor=True)\n",
    "        # compute similarity scores of two embeddings\n",
    "        cosine_scores = util.pytorch_cos_sim(embedding1, embedding2)\n",
    "        scores.append(float(cosine_scores))\n",
    "    return scores\n",
    "\n",
    "\n",
    "def fetch_relevant_text(scores, text_list):\n",
    "    idx = pd.Series(scores).idxmax()\n",
    "    # fetch the relevant text\n",
    "    rel_text = text_list[max(0, idx-2):min(len(text_list), idx+3)]\n",
    "    return rel_text, idx"
   ]
  },
  {
   "cell_type": "code",
   "execution_count": 9,
   "metadata": {},
   "outputs": [],
   "source": [
    "response = requests.get(url = URL, timeout=(4, 5))\n",
    "htmltext = response.text.replace('.\\n', '. ')"
   ]
  },
  {
   "cell_type": "code",
   "execution_count": 10,
   "metadata": {},
   "outputs": [],
   "source": [
    "soup = BeautifulSoup(htmltext)\n",
    "text_list = text_prep(soup)"
   ]
  },
  {
   "cell_type": "code",
   "execution_count": 11,
   "metadata": {},
   "outputs": [
    {
     "data": {
      "text/plain": [
       "['Jenkins Security Advisory 2023-06-14',\n",
       " 'How We Fix Security Issues',\n",
       " 'Jenkins Security Advisory 2023-06-14',\n",
       " 'This advisory announces vulnerabilities in the following Jenkins deliverables:',\n",
       " 'Digital.ai App Management Publisher',\n",
       " 'CSRF protection bypass vulnerability',\n",
       " 'Jenkins provides context menus for various UI elements, like links to jobs and builds, or breadcrumbs.',\n",
       " 'In Jenkins 2.399 and earlier, LTS 2.387.3 and earlier, POST requests are sent in order to load the list of context actions. If part of the URL includes insufficiently escaped user-provided values, a victim may be tricked into sending a POST request to an unexpected endpoint (e.g., the Script Console) by opening a context menu.',\n",
       " 'As of publication of this advisory, we are aware of insufficiently escaped context menu URLs for label expressions, allowing attackers with Item/Configure permissions to exploit this vulnerability.',\n",
       " 'Jenkins 2.400, LTS 2.401.1 sends GET requests to load the list of context actions.',\n",
       " 'SSL/TLS certificate validation disabled by default in Checkmarx Plugin',\n",
       " 'Checkmarx Plugin allows to globally enable or disable SSL/TLS validation for connections to the Checkmarx server. Checkmarx Plugin 2022.4.3 and earlier disables it by default. Unless changed by an administrator, it would cause all connections to the Checkmarx server to ignore SSL/TLS validation, thereby enabling potential man-in-the-middle attacks.',\n",
       " 'Checkmarx Plugin 2023.2.6 enables SSL/TLS validation by default. Administrators who do not want SSL/TLS validation for connections to the Checkmarx server to be disabled are advised to review their configuration.',\n",
       " 'Missing permission checks in Team Concert Plugin',\n",
       " 'Team Concert Plugin 2.4.1 and earlier does not perform permission checks in methods implementing form validation.',\n",
       " 'This allows attackers with Overall/Read permission to check for the existence of an attacker-specified file path on the Jenkins controller file system.',\n",
       " 'Team Concert Plugin 2.4.2 requires Overall/Administer permission for the affected form validation methods.',\n",
       " 'Missing permission check in Dimensions Plugin allows enumerating credentials IDs',\n",
       " 'Dimensions Plugin 0.9.3 and earlier does not perform a permission check in an HTTP endpoint.',\n",
       " 'This allows attackers with Overall/Read permission to enumerate credentials IDs of credentials stored in Jenkins. Those can be used as part of an attack to capture the credentials using another vulnerability.',\n",
       " 'An enumeration of credentials IDs in Dimensions Plugin 0.9.3.1 requires the appropriate permissions.',\n",
       " 'Exposure of system-scoped credentials in Dimensions Plugin',\n",
       " 'Dimensions Plugin 0.9.3 and earlier does not set the appropriate context for credentials lookup, allowing the use of System-scoped credentials otherwise reserved for the global configuration.',\n",
       " 'This allows attackers with Item/Configure permission to access and capture credentials they are not entitled to.',\n",
       " 'Dimensions Plugin 0.9.3.1 defines the appropriate context for credentials lookup.',\n",
       " 'Stored XSS vulnerability in Maven Repository Server Plugin',\n",
       " 'Maven Repository Server Plugin 1.10 and earlier does not escape the versions of build artifacts on the Build Artifacts As Maven Repository page.',\n",
       " 'This results in a stored cross-site scripting (XSS) vulnerability exploitable by attackers able to control maven project versions in pom.xml.',\n",
       " 'As of publication of this advisory, there is no fix. Learn why we announce this.',\n",
       " 'Stored XSS vulnerability in Maven Repository Server Plugin',\n",
       " 'Maven Repository Server Plugin 1.10 and earlier does not escape project and build display names on the Build Artifacts As Maven Repository page.',\n",
       " 'This results in a stored cross-site scripting (XSS) vulnerability exploitable by attackers able to change project or build display names.',\n",
       " 'As of publication of this advisory, there is no fix. Learn why we announce this.',\n",
       " 'Stored XSS vulnerability in Sonargraph Integration Plugin',\n",
       " 'Sonargraph Integration Plugin 5.0.1 and earlier does not correctly escape the file path and the project name for the Log file field form validation.',\n",
       " 'This results in a stored cross-site scripting (XSS) vulnerability exploitable by attackers with Item/Configure permission.',\n",
       " 'This issue is caused by an incomplete fix of SECURITY-1775. ',\n",
       " 'As of publication of this advisory, there is no fix. Learn why we announce this.',\n",
       " 'Stored XSS vulnerability in Template Workflows Plugin',\n",
       " 'Template Workflows Plugin 41.v32d86a_313b_4a and earlier does not escape names of jobs used as buildings blocks for Template Workflow Job.',\n",
       " 'This results in a stored cross-site scripting (XSS) vulnerability exploitable by attackers able to create jobs.',\n",
       " 'As of publication of this advisory, there is no fix. Learn why we announce this.',\n",
       " 'Arbitrary file read vulnerability in AWS CodeCommit Trigger Plugin',\n",
       " 'AWS CodeCommit Trigger Plugin allows downloading activity logs of AWS Simple Queue Service (SQS) queues.',\n",
       " 'AWS CodeCommit Trigger Plugin 3.0.12 and earlier does not restrict the queue name path parameter in the corresponding HTTP endpoint, allowing attackers with Item/Read permission to obtain the contents of arbitrary files on the Jenkins controller file system.',\n",
       " 'As of publication of this advisory, there is no fix. Learn why we announce this.',\n",
       " 'CSRF vulnerability and missing permission checks in Digital.ai App Management Publisher Plugin',\n",
       " 'CVE-2023-35148 (CSRF), CVE-2023-35149 (missing permission check)',\n",
       " 'Digital.ai App Management Publisher Plugin 2.6 and earlier does not perform permission checks in several HTTP endpoints.',\n",
       " 'This allows attackers with Overall/Read permission to connect to an attacker-specified URL using attacker-specified credentials IDs obtained through another method, capturing credentials stored in Jenkins.',\n",
       " 'Additionally, these HTTP endpoints do not require POST requests, resulting in a cross-site request forgery (CSRF) vulnerability.',\n",
       " 'As of publication of this advisory, there is no fix. Learn why we announce this.',\n",
       " 'up to and including',\n",
       " 'up to and including',\n",
       " 'up to and including',\n",
       " 'up to and including',\n",
       " 'Digital.ai App Management Publisher',\n",
       " 'up to and including',\n",
       " 'up to and including',\n",
       " 'up to and including',\n",
       " 'up to and including',\n",
       " 'up to and including',\n",
       " 'up to and including',\n",
       " 'should be updated to version',\n",
       " 'should be updated to version',\n",
       " 'should be updated to version',\n",
       " 'should be updated to version',\n",
       " 'should be updated to version',\n",
       " 'These versions include fixes to the vulnerabilities described above. All prior versions are considered to be affected by these vulnerabilities unless otherwise indicated. ',\n",
       " 'As of publication of this advisory, no fixes are available for the following plugins:',\n",
       " 'Digital.ai App Management Publisher',\n",
       " 'Learn why we announce these issues. ',\n",
       " 'The Jenkins project would like to thank the reporters for discovering and',\n",
       " 'Alvaro MuÃ±oz (@pwntester), GitHub Security Lab',\n",
       " 'SECURITY-3143, SECURITY-3155, SECURITY-3156, SECURITY-3166',\n",
       " 'CC Bomber, Kitri BoB',\n",
       " 'Daniel Beck, CloudBees Inc. ',\n",
       " 'Daniel Beck, CloudBees, Inc. ',\n",
       " 'Kevin Guerroudj, CloudBees, Inc. ',\n",
       " 'Kevin Guerroudj, CloudBees, Inc. and Wadeck Follonier, CloudBees, Inc. ',\n",
       " 'Tony Torralba (@atorralba), GitHub Security Lab']"
      ]
     },
     "execution_count": 11,
     "metadata": {},
     "output_type": "execute_result"
    }
   ],
   "source": [
    "text_list"
   ]
  },
  {
   "cell_type": "code",
   "execution_count": null,
   "metadata": {},
   "outputs": [],
   "source": []
  },
  {
   "cell_type": "code",
   "execution_count": 12,
   "metadata": {},
   "outputs": [],
   "source": [
    "# we need to match with this description\n",
    "nvd_description = \"\"\"CVE-2023-35141. In Jenkins 2.399 and earlier, LTS 2.387.3 and earlier, POST requests are sent in order to load the list of context actions. If part of the URL includes insufficiently escaped user-provided values, a victim may be tricked into sending a POST request to an unexpected endpoint by opening a context menu.\"\"\""
   ]
  },
  {
   "cell_type": "code",
   "execution_count": 13,
   "metadata": {},
   "outputs": [],
   "source": [
    "embedding1 = model.encode(nvd_description, convert_to_tensor=True)"
   ]
  },
  {
   "cell_type": "code",
   "execution_count": 14,
   "metadata": {},
   "outputs": [
    {
     "name": "stdout",
     "output_type": "stream",
     "text": [
      "0  -  tensor([[0.4132]]) Jenkins Security Advisory 2023-06-14\n",
      "1  -  tensor([[0.1252]]) How We Fix Security Issues\n",
      "2  -  tensor([[0.4132]]) Jenkins Security Advisory 2023-06-14\n",
      "3  -  tensor([[0.4368]]) This advisory announces vulnerabilities in the following Jenkins deliverables:\n",
      "4  -  tensor([[0.1248]]) Digital.ai App Management Publisher\n",
      "5  -  tensor([[0.3670]]) CSRF protection bypass vulnerability\n",
      "6  -  tensor([[0.3685]]) Jenkins provides context menus for various UI elements, like links to jobs and builds, or breadcrumbs.\n",
      "7  -  tensor([[0.9248]]) In Jenkins 2.399 and earlier, LTS 2.387.3 and earlier, POST requests are sent in order to load the list of context actions. If part of the URL includes insufficiently escaped user-provided values, a victim may be tricked into sending a POST request to an unexpected endpoint (e.g., the Script Console) by opening a context menu.\n",
      "8  -  tensor([[0.5226]]) As of publication of this advisory, we are aware of insufficiently escaped context menu URLs for label expressions, allowing attackers with Item/Configure permissions to exploit this vulnerability.\n",
      "9  -  tensor([[0.4651]]) Jenkins 2.400, LTS 2.401.1 sends GET requests to load the list of context actions.\n",
      "10  -  tensor([[0.3086]]) SSL/TLS certificate validation disabled by default in Checkmarx Plugin\n",
      "11  -  tensor([[0.5478]]) Checkmarx Plugin allows to globally enable or disable SSL/TLS validation for connections to the Checkmarx server. Checkmarx Plugin 2022.4.3 and earlier disables it by default. Unless changed by an administrator, it would cause all connections to the Checkmarx server to ignore SSL/TLS validation, thereby enabling potential man-in-the-middle attacks.\n",
      "12  -  tensor([[0.3715]]) Checkmarx Plugin 2023.2.6 enables SSL/TLS validation by default. Administrators who do not want SSL/TLS validation for connections to the Checkmarx server to be disabled are advised to review their configuration.\n",
      "13  -  tensor([[0.3619]]) Missing permission checks in Team Concert Plugin\n",
      "14  -  tensor([[0.3036]]) Team Concert Plugin 2.4.1 and earlier does not perform permission checks in methods implementing form validation.\n",
      "15  -  tensor([[0.5630]]) This allows attackers with Overall/Read permission to check for the existence of an attacker-specified file path on the Jenkins controller file system.\n",
      "16  -  tensor([[0.2200]]) Team Concert Plugin 2.4.2 requires Overall/Administer permission for the affected form validation methods.\n",
      "17  -  tensor([[0.5025]]) Missing permission check in Dimensions Plugin allows enumerating credentials IDs\n",
      "18  -  tensor([[0.4735]]) Dimensions Plugin 0.9.3 and earlier does not perform a permission check in an HTTP endpoint.\n",
      "19  -  tensor([[0.6027]]) This allows attackers with Overall/Read permission to enumerate credentials IDs of credentials stored in Jenkins. Those can be used as part of an attack to capture the credentials using another vulnerability.\n",
      "20  -  tensor([[0.3646]]) An enumeration of credentials IDs in Dimensions Plugin 0.9.3.1 requires the appropriate permissions.\n",
      "21  -  tensor([[0.2452]]) Exposure of system-scoped credentials in Dimensions Plugin\n",
      "22  -  tensor([[0.4875]]) Dimensions Plugin 0.9.3 and earlier does not set the appropriate context for credentials lookup, allowing the use of System-scoped credentials otherwise reserved for the global configuration.\n",
      "23  -  tensor([[0.4738]]) This allows attackers with Item/Configure permission to access and capture credentials they are not entitled to.\n",
      "24  -  tensor([[0.4040]]) Dimensions Plugin 0.9.3.1 defines the appropriate context for credentials lookup.\n",
      "25  -  tensor([[0.2891]]) Stored XSS vulnerability in Maven Repository Server Plugin\n",
      "26  -  tensor([[0.2042]]) Maven Repository Server Plugin 1.10 and earlier does not escape the versions of build artifacts on the Build Artifacts As Maven Repository page.\n",
      "27  -  tensor([[0.3750]]) This results in a stored cross-site scripting (XSS) vulnerability exploitable by attackers able to control maven project versions in pom.xml.\n",
      "28  -  tensor([[0.1253]]) As of publication of this advisory, there is no fix. Learn why we announce this.\n",
      "29  -  tensor([[0.2891]]) Stored XSS vulnerability in Maven Repository Server Plugin\n",
      "30  -  tensor([[0.2175]]) Maven Repository Server Plugin 1.10 and earlier does not escape project and build display names on the Build Artifacts As Maven Repository page.\n",
      "31  -  tensor([[0.4065]]) This results in a stored cross-site scripting (XSS) vulnerability exploitable by attackers able to change project or build display names.\n",
      "32  -  tensor([[0.1253]]) As of publication of this advisory, there is no fix. Learn why we announce this.\n",
      "33  -  tensor([[0.2713]]) Stored XSS vulnerability in Sonargraph Integration Plugin\n",
      "34  -  tensor([[0.2954]]) Sonargraph Integration Plugin 5.0.1 and earlier does not correctly escape the file path and the project name for the Log file field form validation.\n",
      "35  -  tensor([[0.4342]]) This results in a stored cross-site scripting (XSS) vulnerability exploitable by attackers with Item/Configure permission.\n",
      "36  -  tensor([[0.3135]]) This issue is caused by an incomplete fix of SECURITY-1775. \n",
      "37  -  tensor([[0.1253]]) As of publication of this advisory, there is no fix. Learn why we announce this.\n",
      "38  -  tensor([[0.2501]]) Stored XSS vulnerability in Template Workflows Plugin\n",
      "39  -  tensor([[0.2421]]) Template Workflows Plugin 41.v32d86a_313b_4a and earlier does not escape names of jobs used as buildings blocks for Template Workflow Job.\n",
      "40  -  tensor([[0.3484]]) This results in a stored cross-site scripting (XSS) vulnerability exploitable by attackers able to create jobs.\n",
      "41  -  tensor([[0.1253]]) As of publication of this advisory, there is no fix. Learn why we announce this.\n",
      "42  -  tensor([[0.4889]]) Arbitrary file read vulnerability in AWS CodeCommit Trigger Plugin\n",
      "43  -  tensor([[0.3867]]) AWS CodeCommit Trigger Plugin allows downloading activity logs of AWS Simple Queue Service (SQS) queues.\n",
      "44  -  tensor([[0.5575]]) AWS CodeCommit Trigger Plugin 3.0.12 and earlier does not restrict the queue name path parameter in the corresponding HTTP endpoint, allowing attackers with Item/Read permission to obtain the contents of arbitrary files on the Jenkins controller file system.\n",
      "45  -  tensor([[0.1253]]) As of publication of this advisory, there is no fix. Learn why we announce this.\n",
      "46  -  tensor([[0.4445]]) CSRF vulnerability and missing permission checks in Digital.ai App Management Publisher Plugin\n",
      "47  -  tensor([[0.5426]]) CVE-2023-35148 (CSRF), CVE-2023-35149 (missing permission check)\n",
      "48  -  tensor([[0.2660]]) Digital.ai App Management Publisher Plugin 2.6 and earlier does not perform permission checks in several HTTP endpoints.\n",
      "49  -  tensor([[0.5819]]) This allows attackers with Overall/Read permission to connect to an attacker-specified URL using attacker-specified credentials IDs obtained through another method, capturing credentials stored in Jenkins.\n"
     ]
    }
   ],
   "source": [
    "scores = []\n",
    "for i, line in enumerate(text_list[:50]):\n",
    "    embedding2 = model.encode(line, convert_to_tensor=True)\n",
    "    # compute similarity scores of two embeddings\n",
    "    cosine_scores = util.pytorch_cos_sim(embedding1, embedding2)\n",
    "    print(i, ' - ', cosine_scores, line)\n",
    "    scores.append((i, cosine_scores))"
   ]
  },
  {
   "cell_type": "code",
   "execution_count": null,
   "metadata": {},
   "outputs": [],
   "source": []
  },
  {
   "cell_type": "code",
   "execution_count": 15,
   "metadata": {},
   "outputs": [
    {
     "data": {
      "text/plain": [
       "[0.41315168142318726,\n",
       " 0.12518921494483948,\n",
       " 0.41315168142318726,\n",
       " 0.436771035194397,\n",
       " 0.12482902407646179,\n",
       " 0.3670174479484558,\n",
       " 0.36848530173301697,\n",
       " 0.9248215556144714,\n",
       " 0.5226345062255859,\n",
       " 0.465057373046875,\n",
       " 0.30859726667404175,\n",
       " 0.5477681159973145,\n",
       " 0.3715449571609497,\n",
       " 0.3618694543838501,\n",
       " 0.3035762906074524,\n",
       " 0.562958836555481,\n",
       " 0.2200177162885666,\n",
       " 0.5024772882461548,\n",
       " 0.4734523296356201,\n",
       " 0.6027072668075562,\n",
       " 0.36462751030921936,\n",
       " 0.24517282843589783,\n",
       " 0.4874786138534546,\n",
       " 0.47384941577911377,\n",
       " 0.4040398597717285,\n",
       " 0.2890620231628418,\n",
       " 0.20423521101474762,\n",
       " 0.37504130601882935,\n",
       " 0.12525209784507751,\n",
       " 0.2890620231628418,\n",
       " 0.21745365858078003,\n",
       " 0.4064589738845825,\n",
       " 0.12525209784507751,\n",
       " 0.27132266759872437,\n",
       " 0.29540711641311646,\n",
       " 0.4342254102230072,\n",
       " 0.3134860098361969,\n",
       " 0.12525209784507751,\n",
       " 0.25005239248275757,\n",
       " 0.24209672212600708,\n",
       " 0.3484308123588562,\n",
       " 0.12525209784507751,\n",
       " 0.48894912004470825,\n",
       " 0.3867040276527405,\n",
       " 0.5574936866760254,\n",
       " 0.12525209784507751,\n",
       " 0.4444515109062195,\n",
       " 0.5425552129745483,\n",
       " 0.26597875356674194,\n",
       " 0.5819429159164429,\n",
       " 0.507824182510376,\n",
       " 0.12525209784507751,\n",
       " 0.02139357291162014,\n",
       " 0.02139357291162014,\n",
       " 0.02139357291162014,\n",
       " 0.02139357291162014,\n",
       " 0.12482902407646179,\n",
       " 0.02139357291162014,\n",
       " 0.02139357291162014,\n",
       " 0.02139357291162014,\n",
       " 0.02139357291162014,\n",
       " 0.02139357291162014,\n",
       " 0.02139357291162014,\n",
       " 0.14980778098106384,\n",
       " 0.14980778098106384,\n",
       " 0.14980778098106384,\n",
       " 0.14980778098106384,\n",
       " 0.14980778098106384,\n",
       " 0.1529022604227066,\n",
       " 0.15784300863742828,\n",
       " 0.12482902407646179,\n",
       " 0.18661876022815704,\n",
       " 0.17229199409484863,\n",
       " 0.22633883357048035,\n",
       " 0.3093435764312744,\n",
       " 0.2887483239173889,\n",
       " 0.231360524892807,\n",
       " 0.23085299134254456,\n",
       " 0.28880155086517334,\n",
       " 0.3067484498023987,\n",
       " 0.1345144659280777]"
      ]
     },
     "execution_count": 15,
     "metadata": {},
     "output_type": "execute_result"
    }
   ],
   "source": [
    "scores = find_text_similarity(nvd_description=nvd_description, text_list=text_list)\n",
    "scores"
   ]
  },
  {
   "cell_type": "code",
   "execution_count": 16,
   "metadata": {},
   "outputs": [
    {
     "data": {
      "text/plain": [
       "0.9248215556144714"
      ]
     },
     "execution_count": 16,
     "metadata": {},
     "output_type": "execute_result"
    }
   ],
   "source": [
    "scores[7]"
   ]
  },
  {
   "cell_type": "code",
   "execution_count": null,
   "metadata": {},
   "outputs": [],
   "source": []
  },
  {
   "cell_type": "code",
   "execution_count": 21,
   "metadata": {},
   "outputs": [
    {
     "data": {
      "text/plain": [
       "['CSRF protection bypass vulnerability',\n",
       " 'Jenkins provides context menus for various UI elements, like links to jobs and builds, or breadcrumbs.',\n",
       " 'In Jenkins 2.399 and earlier, LTS 2.387.3 and earlier, POST requests are sent in order to load the list of context actions. If part of the URL includes insufficiently escaped user-provided values, a victim may be tricked into sending a POST request to an unexpected endpoint (e.g., the Script Console) by opening a context menu.',\n",
       " 'As of publication of this advisory, we are aware of insufficiently escaped context menu URLs for label expressions, allowing attackers with Item/Configure permissions to exploit this vulnerability.',\n",
       " 'Jenkins 2.400, LTS 2.401.1 sends GET requests to load the list of context actions.']"
      ]
     },
     "execution_count": 21,
     "metadata": {},
     "output_type": "execute_result"
    }
   ],
   "source": [
    "good_text, idx = fetch_relevant_text(scores, text_list)\n",
    "good_text"
   ]
  },
  {
   "cell_type": "code",
   "execution_count": 22,
   "metadata": {},
   "outputs": [
    {
     "data": {
      "text/plain": [
       "7"
      ]
     },
     "execution_count": 22,
     "metadata": {},
     "output_type": "execute_result"
    }
   ],
   "source": [
    "idx"
   ]
  },
  {
   "cell_type": "code",
   "execution_count": null,
   "metadata": {},
   "outputs": [],
   "source": []
  },
  {
   "cell_type": "code",
   "execution_count": 23,
   "metadata": {},
   "outputs": [
    {
     "data": {
      "text/plain": [
       "['CSRF protection bypass vulnerability',\n",
       " 'Jenkins provides context menus for various UI elements, like links to jobs and builds, or breadcrumbs.',\n",
       " 'In Jenkins 2.399 and earlier, LTS 2.387.3 and earlier, POST requests are sent in order to load the list of context actions. If part of the URL includes insufficiently escaped user-provided values, a victim may be tricked into sending a POST request to an unexpected endpoint (e.g., the Script Console) by opening a context menu.',\n",
       " 'As of publication of this advisory, we are aware of insufficiently escaped context menu URLs for label expressions, allowing attackers with Item/Configure permissions to exploit this vulnerability.',\n",
       " 'Jenkins 2.400, LTS 2.401.1 sends GET requests to load the list of context actions.']"
      ]
     },
     "execution_count": 23,
     "metadata": {},
     "output_type": "execute_result"
    }
   ],
   "source": [
    "# fetch the relevant text\n",
    "text_list[max(0, idx-2):min(len(text_list), idx+3)]"
   ]
  },
  {
   "cell_type": "code",
   "execution_count": null,
   "metadata": {},
   "outputs": [],
   "source": []
  },
  {
   "cell_type": "code",
   "execution_count": null,
   "metadata": {},
   "outputs": [],
   "source": []
  },
  {
   "cell_type": "code",
   "execution_count": 24,
   "metadata": {},
   "outputs": [],
   "source": [
    "s = pd.Series(scores)"
   ]
  },
  {
   "cell_type": "code",
   "execution_count": 25,
   "metadata": {},
   "outputs": [
    {
     "data": {
      "text/plain": [
       "<AxesSubplot: >"
      ]
     },
     "execution_count": 25,
     "metadata": {},
     "output_type": "execute_result"
    },
    {
     "data": {
      "image/png": "[encoded data removed]",
      "text/plain": [
       "<Figure size 640x480 with 1 Axes>"
      ]
     },
     "metadata": {},
     "output_type": "display_data"
    }
   ],
   "source": [
    "s.hist()"
   ]
  },
  {
   "cell_type": "code",
   "execution_count": 26,
   "metadata": {},
   "outputs": [
    {
     "data": {
      "text/plain": [
       "0.4    0.220018\n",
       "0.5    0.271323\n",
       "0.6    0.308597\n",
       "0.7    0.371545\n",
       "0.8    0.436771\n",
       "0.9    0.507824\n",
       "dtype: float64"
      ]
     },
     "execution_count": 26,
     "metadata": {},
     "output_type": "execute_result"
    }
   ],
   "source": [
    "s.quantile(q = [0.4, 0.5, 0.6, 0.7, 0.8, 0.9])"
   ]
  },
  {
   "cell_type": "code",
   "execution_count": 28,
   "metadata": {},
   "outputs": [],
   "source": [
    "scores.sort(reverse=True)"
   ]
  },
  {
   "cell_type": "code",
   "execution_count": 32,
   "metadata": {},
   "outputs": [
    {
     "data": {
      "text/plain": [
       "[0.9248215556144714,\n",
       " 0.6027072668075562,\n",
       " 0.5819429159164429,\n",
       " 0.562958836555481,\n",
       " 0.5574936866760254,\n",
       " 0.5477681159973145,\n",
       " 0.5425552129745483,\n",
       " 0.5226345062255859,\n",
       " 0.507824182510376,\n",
       " 0.5024772882461548]"
      ]
     },
     "execution_count": 32,
     "metadata": {},
     "output_type": "execute_result"
    }
   ],
   "source": [
    "scores[:10]"
   ]
  },
  {
   "cell_type": "code",
   "execution_count": null,
   "metadata": {},
   "outputs": [],
   "source": []
  }
 ],
 "metadata": {
  "kernelspec": {
   "display_name": "base",
   "language": "python",
   "name": "python3"
  },
  "language_info": {
   "codemirror_mode": {
    "name": "ipython",
    "version": 3
   },
   "file_extension": ".py",
   "mimetype": "text/x-python",
   "name": "python",
   "nbconvert_exporter": "python",
   "pygments_lexer": "ipython3",
   "version": "3.9.12"
  },
  "orig_nbformat": 4
 },
 "nbformat": 4,
 "nbformat_minor": 2
}
