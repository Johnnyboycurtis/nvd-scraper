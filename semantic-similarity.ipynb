{
 "cells": [
  {
   "cell_type": "markdown",
   "metadata": {},
   "source": [
    "# PyTorch Transformers\n",
    "\n",
    "We need to compare if the NVD CVE description matches text from web scraping per HTML tag. Unfortunately, messy but fast enough for what I need\n",
    "\n"
   ]
  },
  {
   "cell_type": "code",
   "execution_count": 1,
   "metadata": {},
   "outputs": [],
   "source": [
    "from sentence_transformers import SentenceTransformer, util\n",
    "import numpy as np"
   ]
  },
  {
   "cell_type": "markdown",
   "metadata": {},
   "source": [
    "## Reference\n",
    "\n",
    "[Semantic Similarity Using Transformers](https://towardsdatascience.com/semantic-similarity-using-transformers-8f3cb5bf66d6)\n",
    "\n"
   ]
  },
  {
   "cell_type": "code",
   "execution_count": 2,
   "metadata": {},
   "outputs": [],
   "source": [
    "model = SentenceTransformer('sentence-transformers/all-distilroberta-v1')\n"
   ]
  },
  {
   "cell_type": "code",
   "execution_count": 3,
   "metadata": {},
   "outputs": [
    {
     "name": "stdout",
     "output_type": "stream",
     "text": [
      "Sentence 1: I like Python because I can build AI applications\n",
      "Sentence 2: I like Python because I can do data analytics\n",
      "Similarity score: 0.8461101055145264\n"
     ]
    }
   ],
   "source": [
    "sentence1 = \"I like Python because I can build AI applications\"\n",
    "sentence2 = \"I like Python because I can do data analytics\"\n",
    "# encode sentences to get their embeddings\n",
    "embedding1 = model.encode(sentence1, convert_to_tensor=True)\n",
    "embedding2 = model.encode(sentence2, convert_to_tensor=True)\n",
    "# compute similarity scores of two embeddings\n",
    "cosine_scores = util.pytorch_cos_sim(embedding1, embedding2)\n",
    "print(\"Sentence 1:\", sentence1)\n",
    "print(\"Sentence 2:\", sentence2)\n",
    "print(\"Similarity score:\", cosine_scores.item())"
   ]
  },
  {
   "cell_type": "code",
   "execution_count": null,
   "metadata": {},
   "outputs": [],
   "source": []
  },
  {
   "cell_type": "code",
   "execution_count": 4,
   "metadata": {},
   "outputs": [],
   "source": [
    "nvd_description = \"\"\"CVE-2023-35141. In Jenkins 2.399 and earlier, LTS 2.387.3 and earlier, POST requests are sent in order to load the list of context actions. If part of the URL includes insufficiently escaped user-provided values, a victim may be tricked into sending a POST request to an unexpected endpoint by opening a context menu.\"\"\"\n",
    "\n",
    "html_description = \"\"\"BERT for Sentence Similarity. So far, so good, but these transformer models had on\"\"\""
   ]
  },
  {
   "cell_type": "code",
   "execution_count": 5,
   "metadata": {},
   "outputs": [
    {
     "name": "stdout",
     "output_type": "stream",
     "text": [
      "Similarity score: 0.010038269683718681\n"
     ]
    }
   ],
   "source": [
    "# encode sentences to get their embeddings\n",
    "embedding1 = model.encode(nvd_description, convert_to_tensor=True)\n",
    "embedding2 = model.encode(html_description, convert_to_tensor=True)\n",
    "# compute similarity scores of two embeddings\n",
    "cosine_scores = util.pytorch_cos_sim(embedding1, embedding2)\n",
    "print(\"Similarity score:\", cosine_scores.item())"
   ]
  },
  {
   "cell_type": "code",
   "execution_count": null,
   "metadata": {},
   "outputs": [],
   "source": []
  },
  {
   "cell_type": "code",
   "execution_count": 6,
   "metadata": {},
   "outputs": [
    {
     "data": {
      "text/plain": [
       "['Descriptions ',\n",
       " 'Descriptions ',\n",
       " 'CSRF protection bypass vulnerability ',\n",
       " 'SECURITY-3135 / CVE-2023-35141',\n",
       " 'Severity (CVSS): High',\n",
       " 'Description:',\n",
       " 'Jenkins provides context menus for various UI elements, like links to jobs and builds, or breadcrumbs.',\n",
       " '',\n",
       " 'In Jenkins 2.399 and earlier, LTS 2.387.3 and earlier, POST requests are sent in order to load the list of context actions. If part of the URL includes insufficiently escaped user-provided values, a victim may be tricked into sending a POST request to an unexpected endpoint (e.g., the Script Console) by opening a context menu.',\n",
       " '',\n",
       " 'As of publication of this advisory, we are aware of insufficiently escaped context menu URLs for label expressions, allowing attackers with Item/Configure permissions to exploit this vulnerability.',\n",
       " '',\n",
       " 'Jenkins 2.400, LTS 2.401.1 sends GET requests to load the list of context actions.',\n",
       " '',\n",
       " 'SSL/TLS certificate validation disabled by default in Checkmarx Plugin ',\n",
       " 'SECURITY-2870 / CVE-2023-35142',\n",
       " 'Severity (CVSS): Medium',\n",
       " 'Affected plugin: checkmarx',\n",
       " 'Description:',\n",
       " 'Checkmarx Plugin allows to globally enable or disable SSL/TLS validation for connections to the Checkmarx server. Checkmarx Plugin 2022.4.3 and earlier disables it by default. Unless changed by an administrator, it would cause all connections to the Checkmarx server to ignore SSL/TLS validation, thereby enabling potential man-in-the-middle attacks.',\n",
       " '',\n",
       " 'Checkmarx Plugin 2023.2.6 enables SSL/TLS validation by default. Administrators who do not want SSL/TLS validation for connections to the Checkmarx server to be disabled are advised to review their configuration.',\n",
       " '',\n",
       " 'Missing permission checks in Team Concert Plugin ',\n",
       " 'SECURITY-2932 / CVE-2023-3315',\n",
       " 'Severity (CVSS): Medium',\n",
       " 'Affected plugin: teamconcert',\n",
       " 'Description:',\n",
       " 'Team Concert Plugin 2.4.1 and earlier does not perform permission checks in methods implementing form validation.',\n",
       " '',\n",
       " 'This allows attackers with Overall/Read permission to check for the existence of an attacker-specified file path on the Jenkins controller file system.',\n",
       " '',\n",
       " 'Team Concert Plugin 2.4.2 requires Overall/Administer permission for the affected form validation methods.',\n",
       " '',\n",
       " 'Missing permission check in Dimensions Plugin allows enumerating credentials IDs ',\n",
       " 'SECURITY-3138 / CVE-2023-32261',\n",
       " 'Severity (CVSS): Medium',\n",
       " 'Affected plugin: dimensionsscm',\n",
       " 'Description:',\n",
       " 'Dimensions Plugin 0.9.3 and earlier does not perform a permission check in an HTTP endpoint.',\n",
       " '',\n",
       " 'This allows attackers with Overall/Read permission to enumerate credentials IDs of credentials stored in Jenkins. Those can be used as part of an attack to capture the credentials using another vulnerability.',\n",
       " '',\n",
       " 'An enumeration of credentials IDs in Dimensions Plugin 0.9.3.1 requires the appropriate permissions.',\n",
       " '',\n",
       " 'Exposure of system-scoped credentials in Dimensions Plugin ',\n",
       " 'SECURITY-3143 / CVE-2023-32262',\n",
       " 'Severity (CVSS): Medium',\n",
       " 'Affected plugin: dimensionsscm',\n",
       " 'Description:',\n",
       " 'Dimensions Plugin 0.9.3 and earlier does not set the appropriate context for credentials lookup, allowing the use of System-scoped credentials otherwise reserved for the global configuration.',\n",
       " '',\n",
       " 'This allows attackers with Item/Configure permission to access and capture credentials they are not entitled to.',\n",
       " '',\n",
       " 'Dimensions Plugin 0.9.3.1 defines the appropriate context for credentials lookup.',\n",
       " '']"
      ]
     },
     "execution_count": 6,
     "metadata": {},
     "output_type": "execute_result"
    }
   ],
   "source": [
    "section = \"\"\"Descriptions \n",
    "Descriptions \n",
    "CSRF protection bypass vulnerability \n",
    "SECURITY-3135 / CVE-2023-35141\n",
    "Severity (CVSS): High\n",
    "Description:\n",
    "Jenkins provides context menus for various UI elements, like links to jobs and builds, or breadcrumbs.\n",
    "\n",
    "In Jenkins 2.399 and earlier, LTS 2.387.3 and earlier, POST requests are sent in order to load the list of context actions. If part of the URL includes insufficiently escaped user-provided values, a victim may be tricked into sending a POST request to an unexpected endpoint (e.g., the Script Console) by opening a context menu.\n",
    "\n",
    "As of publication of this advisory, we are aware of insufficiently escaped context menu URLs for label expressions, allowing attackers with Item/Configure permissions to exploit this vulnerability.\n",
    "\n",
    "Jenkins 2.400, LTS 2.401.1 sends GET requests to load the list of context actions.\n",
    "\n",
    "SSL/TLS certificate validation disabled by default in Checkmarx Plugin \n",
    "SECURITY-2870 / CVE-2023-35142\n",
    "Severity (CVSS): Medium\n",
    "Affected plugin: checkmarx\n",
    "Description:\n",
    "Checkmarx Plugin allows to globally enable or disable SSL/TLS validation for connections to the Checkmarx server. Checkmarx Plugin 2022.4.3 and earlier disables it by default. Unless changed by an administrator, it would cause all connections to the Checkmarx server to ignore SSL/TLS validation, thereby enabling potential man-in-the-middle attacks.\n",
    "\n",
    "Checkmarx Plugin 2023.2.6 enables SSL/TLS validation by default. Administrators who do not want SSL/TLS validation for connections to the Checkmarx server to be disabled are advised to review their configuration.\n",
    "\n",
    "Missing permission checks in Team Concert Plugin \n",
    "SECURITY-2932 / CVE-2023-3315\n",
    "Severity (CVSS): Medium\n",
    "Affected plugin: teamconcert\n",
    "Description:\n",
    "Team Concert Plugin 2.4.1 and earlier does not perform permission checks in methods implementing form validation.\n",
    "\n",
    "This allows attackers with Overall/Read permission to check for the existence of an attacker-specified file path on the Jenkins controller file system.\n",
    "\n",
    "Team Concert Plugin 2.4.2 requires Overall/Administer permission for the affected form validation methods.\n",
    "\n",
    "Missing permission check in Dimensions Plugin allows enumerating credentials IDs \n",
    "SECURITY-3138 / CVE-2023-32261\n",
    "Severity (CVSS): Medium\n",
    "Affected plugin: dimensionsscm\n",
    "Description:\n",
    "Dimensions Plugin 0.9.3 and earlier does not perform a permission check in an HTTP endpoint.\n",
    "\n",
    "This allows attackers with Overall/Read permission to enumerate credentials IDs of credentials stored in Jenkins. Those can be used as part of an attack to capture the credentials using another vulnerability.\n",
    "\n",
    "An enumeration of credentials IDs in Dimensions Plugin 0.9.3.1 requires the appropriate permissions.\n",
    "\n",
    "Exposure of system-scoped credentials in Dimensions Plugin \n",
    "SECURITY-3143 / CVE-2023-32262\n",
    "Severity (CVSS): Medium\n",
    "Affected plugin: dimensionsscm\n",
    "Description:\n",
    "Dimensions Plugin 0.9.3 and earlier does not set the appropriate context for credentials lookup, allowing the use of System-scoped credentials otherwise reserved for the global configuration.\n",
    "\n",
    "This allows attackers with Item/Configure permission to access and capture credentials they are not entitled to.\n",
    "\n",
    "Dimensions Plugin 0.9.3.1 defines the appropriate context for credentials lookup.\n",
    "\"\"\".split('\\n')\n",
    "\n",
    "section"
   ]
  },
  {
   "cell_type": "code",
   "execution_count": 7,
   "metadata": {},
   "outputs": [
    {
     "name": "stdout",
     "output_type": "stream",
     "text": [
      "0  -  tensor([[0.0953]]) Descriptions \n",
      "1  -  tensor([[0.0953]]) Descriptions \n",
      "2  -  tensor([[0.2337]]) CSRF protection bypass vulnerability \n",
      "3  -  tensor([[0.4951]]) SECURITY-3135 / CVE-2023-35141\n",
      "4  -  tensor([[0.1968]]) Severity (CVSS): High\n",
      "5  -  tensor([[0.1511]]) Description:\n",
      "6  -  tensor([[0.4006]]) Jenkins provides context menus for various UI elements, like links to jobs and builds, or breadcrumbs.\n",
      "8  -  tensor([[0.8899]]) In Jenkins 2.399 and earlier, LTS 2.387.3 and earlier, POST requests are sent in order to load the list of context actions. If part of the URL includes insufficiently escaped user-provided values, a victim may be tricked into sending a POST request to an unexpected endpoint (e.g., the Script Console) by opening a context menu.\n",
      "10  -  tensor([[0.5051]]) As of publication of this advisory, we are aware of insufficiently escaped context menu URLs for label expressions, allowing attackers with Item/Configure permissions to exploit this vulnerability.\n",
      "12  -  tensor([[0.6735]]) Jenkins 2.400, LTS 2.401.1 sends GET requests to load the list of context actions.\n",
      "14  -  tensor([[0.0712]]) SSL/TLS certificate validation disabled by default in Checkmarx Plugin \n",
      "15  -  tensor([[0.4840]]) SECURITY-2870 / CVE-2023-35142\n",
      "16  -  tensor([[0.0993]]) Severity (CVSS): Medium\n",
      "17  -  tensor([[0.1289]]) Affected plugin: checkmarx\n",
      "18  -  tensor([[0.1511]]) Description:\n",
      "19  -  tensor([[0.2676]]) Checkmarx Plugin allows to globally enable or disable SSL/TLS validation for connections to the Checkmarx server. Checkmarx Plugin 2022.4.3 and earlier disables it by default. Unless changed by an administrator, it would cause all connections to the Checkmarx server to ignore SSL/TLS validation, thereby enabling potential man-in-the-middle attacks.\n",
      "21  -  tensor([[0.2476]]) Checkmarx Plugin 2023.2.6 enables SSL/TLS validation by default. Administrators who do not want SSL/TLS validation for connections to the Checkmarx server to be disabled are advised to review their configuration.\n",
      "23  -  tensor([[0.1350]]) Missing permission checks in Team Concert Plugin \n",
      "24  -  tensor([[0.4367]]) SECURITY-2932 / CVE-2023-3315\n",
      "25  -  tensor([[0.0993]]) Severity (CVSS): Medium\n",
      "26  -  tensor([[0.1531]]) Affected plugin: teamconcert\n",
      "27  -  tensor([[0.1511]]) Description:\n",
      "28  -  tensor([[0.1897]]) Team Concert Plugin 2.4.1 and earlier does not perform permission checks in methods implementing form validation.\n",
      "30  -  tensor([[0.4984]]) This allows attackers with Overall/Read permission to check for the existence of an attacker-specified file path on the Jenkins controller file system.\n",
      "32  -  tensor([[0.1828]]) Team Concert Plugin 2.4.2 requires Overall/Administer permission for the affected form validation methods.\n",
      "34  -  tensor([[0.1395]]) Missing permission check in Dimensions Plugin allows enumerating credentials IDs \n",
      "35  -  tensor([[0.4563]]) SECURITY-3138 / CVE-2023-32261\n",
      "36  -  tensor([[0.0993]]) Severity (CVSS): Medium\n",
      "37  -  tensor([[0.1124]]) Affected plugin: dimensionsscm\n",
      "38  -  tensor([[0.1511]]) Description:\n",
      "39  -  tensor([[0.2533]]) Dimensions Plugin 0.9.3 and earlier does not perform a permission check in an HTTP endpoint.\n",
      "41  -  tensor([[0.5128]]) This allows attackers with Overall/Read permission to enumerate credentials IDs of credentials stored in Jenkins. Those can be used as part of an attack to capture the credentials using another vulnerability.\n",
      "43  -  tensor([[0.1878]]) An enumeration of credentials IDs in Dimensions Plugin 0.9.3.1 requires the appropriate permissions.\n",
      "45  -  tensor([[0.0849]]) Exposure of system-scoped credentials in Dimensions Plugin \n",
      "46  -  tensor([[0.4448]]) SECURITY-3143 / CVE-2023-32262\n",
      "47  -  tensor([[0.0993]]) Severity (CVSS): Medium\n",
      "48  -  tensor([[0.1124]]) Affected plugin: dimensionsscm\n",
      "49  -  tensor([[0.1511]]) Description:\n",
      "50  -  tensor([[0.2104]]) Dimensions Plugin 0.9.3 and earlier does not set the appropriate context for credentials lookup, allowing the use of System-scoped credentials otherwise reserved for the global configuration.\n",
      "52  -  tensor([[0.3489]]) This allows attackers with Item/Configure permission to access and capture credentials they are not entitled to.\n",
      "54  -  tensor([[0.2512]]) Dimensions Plugin 0.9.3.1 defines the appropriate context for credentials lookup.\n"
     ]
    }
   ],
   "source": [
    "scores = []\n",
    "for i, line in enumerate(section):\n",
    "    if line:\n",
    "        embedding2 = model.encode(line, convert_to_tensor=True)\n",
    "        # compute similarity scores of two embeddings\n",
    "        cosine_scores = util.pytorch_cos_sim(embedding1, embedding2)\n",
    "        print(i, ' - ', cosine_scores, line)\n",
    "        scores.append((i, cosine_scores))"
   ]
  },
  {
   "cell_type": "code",
   "execution_count": null,
   "metadata": {},
   "outputs": [],
   "source": []
  },
  {
   "cell_type": "markdown",
   "metadata": {},
   "source": [
    "What I will do is look at the sentence/tag with the highest score (if the score is above 80%). I will grab the paragraph text above and below that tag (3 tags in total). THen return that data as the article.\n",
    "\n",
    "\n",
    "So let's demo this\n"
   ]
  },
  {
   "cell_type": "code",
   "execution_count": null,
   "metadata": {},
   "outputs": [],
   "source": []
  },
  {
   "cell_type": "code",
   "execution_count": 8,
   "metadata": {},
   "outputs": [],
   "source": [
    "\"\"\"\n",
    "Vendor Articles from CVEs\n",
    "\"\"\"\n",
    "\n",
    "import pandas as pd\n",
    "import requests\n",
    "from bs4 import BeautifulSoup\n",
    "import re\n",
    "\n",
    "spaces_pattern = re.compile('\\s+') # remove new lines \\n and \\t\n",
    "\n",
    "URL = \"https://www.jenkins.io/security/advisory/2023-06-14/\"\n",
    "\n",
    "\n",
    "\n",
    "def request_articles(url_list):\n",
    "    soup_list = []\n",
    "    for url in url_list:\n",
    "        soup = beautiful_request(url)\n",
    "        soup_list.append(soup)\n",
    "    return request_articles\n",
    "\n",
    "\n",
    "def beautiful_request(url):\n",
    "    response = requests.get(url = url, timeout=(4, 5))\n",
    "    # Before passing response.text to Beautifulsoup\n",
    "    # we need to remove any \\n that are within sentences and\n",
    "    # unrelated to HTML new lines\n",
    "    soup = BeautifulSoup(response.text.replace('.\\n', '. '))\n",
    "    # does this after is trickier...or at least requires more thought\n",
    "    # this is faster for now...\n",
    "    return soup\n",
    "\n",
    "\n",
    "def spaces_filter(text_list):\n",
    "    # ['this', ' ', ' ', 'that', 'this']\n",
    "    return len(text_list) > 0\n",
    "\n",
    "\n",
    "def word_count(text):\n",
    "    text_list = text.split(' ') # get rid of extra spaces so they don't count\n",
    "    text_list = list(filter(spaces_filter, text_list))\n",
    "    return len(text_list)\n",
    "\n",
    "\n",
    "def word_count_filter(text):\n",
    "    n = word_count(text)\n",
    "    return n > 3\n",
    "\n",
    "\n",
    "def text_prep(soup):\n",
    "    # we get all this html code, let's just grab the text\n",
    "    text = soup.text.split('\\n')\n",
    "    #text # we get a lot of empty junk, so filter it out\n",
    "    text = list(filter(spaces_filter, text))\n",
    "    text = list(filter(word_count_filter, text)) # should I combine this with the above?\n",
    "    text_list = text\n",
    "    return text_list\n",
    "\n",
    "def remove_newlines(text):\n",
    "    # remove \\n and \\t\n",
    "    text = re.sub(spaces_pattern, ' ', text)\n",
    "    return text\n",
    "\n",
    "\n",
    "def find_text_similarity(nvd_description, text_list):\n",
    "    embedding1 = model.encode(nvd_description, convert_to_tensor=True)\n",
    "    scores = []\n",
    "    for i, line in enumerate(text_list):\n",
    "        embedding2 = model.encode(line, convert_to_tensor=True)\n",
    "        # compute similarity scores of two embeddings\n",
    "        cosine_scores = util.pytorch_cos_sim(embedding1, embedding2)\n",
    "        scores.append(float(cosine_scores))\n",
    "    return scores\n",
    "\n",
    "\n",
    "def fetch_relevant_text(scores, text_list):\n",
    "    idx = pd.Series(scores).idxmax()\n",
    "    # fetch the relevant text\n",
    "    rel_text = text_list[max(0, idx-2):min(len(text_list), idx+3)]\n",
    "    return rel_text, idx"
   ]
  },
  {
   "cell_type": "code",
   "execution_count": 9,
   "metadata": {},
   "outputs": [],
   "source": [
    "response = requests.get(url = URL, timeout=(4, 5))\n",
    "htmltext = response.text.replace('.\\n', '. ')"
   ]
  },
  {
   "cell_type": "code",
   "execution_count": 10,
   "metadata": {},
   "outputs": [],
   "source": [
    "soup = BeautifulSoup(htmltext)\n",
    "text_list = text_prep(soup)"
   ]
  },
  {
   "cell_type": "code",
   "execution_count": 11,
   "metadata": {},
   "outputs": [
    {
     "data": {
      "text/plain": [
       "['Jenkins Security Advisory 2023-06-14',\n",
       " 'How We Fix Security Issues',\n",
       " 'Jenkins Security Advisory 2023-06-14',\n",
       " 'This advisory announces vulnerabilities in the following Jenkins deliverables:',\n",
       " 'Digital.ai App Management Publisher',\n",
       " 'CSRF protection bypass vulnerability',\n",
       " 'Jenkins provides context menus for various UI elements, like links to jobs and builds, or breadcrumbs.',\n",
       " 'In Jenkins 2.399 and earlier, LTS 2.387.3 and earlier, POST requests are sent in order to load the list of context actions. If part of the URL includes insufficiently escaped user-provided values, a victim may be tricked into sending a POST request to an unexpected endpoint (e.g., the Script Console) by opening a context menu.',\n",
       " 'As of publication of this advisory, we are aware of insufficiently escaped context menu URLs for label expressions, allowing attackers with Item/Configure permissions to exploit this vulnerability.',\n",
       " 'Jenkins 2.400, LTS 2.401.1 sends GET requests to load the list of context actions.',\n",
       " 'SSL/TLS certificate validation disabled by default in Checkmarx Plugin',\n",
       " 'Checkmarx Plugin allows to globally enable or disable SSL/TLS validation for connections to the Checkmarx server. Checkmarx Plugin 2022.4.3 and earlier disables it by default. Unless changed by an administrator, it would cause all connections to the Checkmarx server to ignore SSL/TLS validation, thereby enabling potential man-in-the-middle attacks.',\n",
       " 'Checkmarx Plugin 2023.2.6 enables SSL/TLS validation by default. Administrators who do not want SSL/TLS validation for connections to the Checkmarx server to be disabled are advised to review their configuration.',\n",
       " 'Missing permission checks in Team Concert Plugin',\n",
       " 'Team Concert Plugin 2.4.1 and earlier does not perform permission checks in methods implementing form validation.',\n",
       " 'This allows attackers with Overall/Read permission to check for the existence of an attacker-specified file path on the Jenkins controller file system.',\n",
       " 'Team Concert Plugin 2.4.2 requires Overall/Administer permission for the affected form validation methods.',\n",
       " 'Missing permission check in Dimensions Plugin allows enumerating credentials IDs',\n",
       " 'Dimensions Plugin 0.9.3 and earlier does not perform a permission check in an HTTP endpoint.',\n",
       " 'This allows attackers with Overall/Read permission to enumerate credentials IDs of credentials stored in Jenkins. Those can be used as part of an attack to capture the credentials using another vulnerability.',\n",
       " 'An enumeration of credentials IDs in Dimensions Plugin 0.9.3.1 requires the appropriate permissions.',\n",
       " 'Exposure of system-scoped credentials in Dimensions Plugin',\n",
       " 'Dimensions Plugin 0.9.3 and earlier does not set the appropriate context for credentials lookup, allowing the use of System-scoped credentials otherwise reserved for the global configuration.',\n",
       " 'This allows attackers with Item/Configure permission to access and capture credentials they are not entitled to.',\n",
       " 'Dimensions Plugin 0.9.3.1 defines the appropriate context for credentials lookup.',\n",
       " 'Stored XSS vulnerability in Maven Repository Server Plugin',\n",
       " 'Maven Repository Server Plugin 1.10 and earlier does not escape the versions of build artifacts on the Build Artifacts As Maven Repository page.',\n",
       " 'This results in a stored cross-site scripting (XSS) vulnerability exploitable by attackers able to control maven project versions in pom.xml.',\n",
       " 'As of publication of this advisory, there is no fix. Learn why we announce this.',\n",
       " 'Stored XSS vulnerability in Maven Repository Server Plugin',\n",
       " 'Maven Repository Server Plugin 1.10 and earlier does not escape project and build display names on the Build Artifacts As Maven Repository page.',\n",
       " 'This results in a stored cross-site scripting (XSS) vulnerability exploitable by attackers able to change project or build display names.',\n",
       " 'As of publication of this advisory, there is no fix. Learn why we announce this.',\n",
       " 'Stored XSS vulnerability in Sonargraph Integration Plugin',\n",
       " 'Sonargraph Integration Plugin 5.0.1 and earlier does not correctly escape the file path and the project name for the Log file field form validation.',\n",
       " 'This results in a stored cross-site scripting (XSS) vulnerability exploitable by attackers with Item/Configure permission.',\n",
       " 'This issue is caused by an incomplete fix of SECURITY-1775. ',\n",
       " 'As of publication of this advisory, there is no fix. Learn why we announce this.',\n",
       " 'Stored XSS vulnerability in Template Workflows Plugin',\n",
       " 'Template Workflows Plugin 41.v32d86a_313b_4a and earlier does not escape names of jobs used as buildings blocks for Template Workflow Job.',\n",
       " 'This results in a stored cross-site scripting (XSS) vulnerability exploitable by attackers able to create jobs.',\n",
       " 'As of publication of this advisory, there is no fix. Learn why we announce this.',\n",
       " 'Arbitrary file read vulnerability in AWS CodeCommit Trigger Plugin',\n",
       " 'AWS CodeCommit Trigger Plugin allows downloading activity logs of AWS Simple Queue Service (SQS) queues.',\n",
       " 'AWS CodeCommit Trigger Plugin 3.0.12 and earlier does not restrict the queue name path parameter in the corresponding HTTP endpoint, allowing attackers with Item/Read permission to obtain the contents of arbitrary files on the Jenkins controller file system.',\n",
       " 'As of publication of this advisory, there is no fix. Learn why we announce this.',\n",
       " 'CSRF vulnerability and missing permission checks in Digital.ai App Management Publisher Plugin',\n",
       " 'CVE-2023-35148 (CSRF), CVE-2023-35149 (missing permission check)',\n",
       " 'Digital.ai App Management Publisher Plugin 2.6 and earlier does not perform permission checks in several HTTP endpoints.',\n",
       " 'This allows attackers with Overall/Read permission to connect to an attacker-specified URL using attacker-specified credentials IDs obtained through another method, capturing credentials stored in Jenkins.',\n",
       " 'Additionally, these HTTP endpoints do not require POST requests, resulting in a cross-site request forgery (CSRF) vulnerability.',\n",
       " 'As of publication of this advisory, there is no fix. Learn why we announce this.',\n",
       " 'up to and including',\n",
       " 'up to and including',\n",
       " 'up to and including',\n",
       " 'up to and including',\n",
       " 'Digital.ai App Management Publisher',\n",
       " 'up to and including',\n",
       " 'up to and including',\n",
       " 'up to and including',\n",
       " 'up to and including',\n",
       " 'up to and including',\n",
       " 'up to and including',\n",
       " 'should be updated to version',\n",
       " 'should be updated to version',\n",
       " 'should be updated to version',\n",
       " 'should be updated to version',\n",
       " 'should be updated to version',\n",
       " 'These versions include fixes to the vulnerabilities described above. All prior versions are considered to be affected by these vulnerabilities unless otherwise indicated. ',\n",
       " 'As of publication of this advisory, no fixes are available for the following plugins:',\n",
       " 'Digital.ai App Management Publisher',\n",
       " 'Learn why we announce these issues. ',\n",
       " 'The Jenkins project would like to thank the reporters for discovering and',\n",
       " 'Alvaro MuÃ±oz (@pwntester), GitHub Security Lab',\n",
       " 'SECURITY-3143, SECURITY-3155, SECURITY-3156, SECURITY-3166',\n",
       " 'CC Bomber, Kitri BoB',\n",
       " 'Daniel Beck, CloudBees Inc. ',\n",
       " 'Daniel Beck, CloudBees, Inc. ',\n",
       " 'Kevin Guerroudj, CloudBees, Inc. ',\n",
       " 'Kevin Guerroudj, CloudBees, Inc. and Wadeck Follonier, CloudBees, Inc. ',\n",
       " 'Tony Torralba (@atorralba), GitHub Security Lab']"
      ]
     },
     "execution_count": 11,
     "metadata": {},
     "output_type": "execute_result"
    }
   ],
   "source": [
    "text_list"
   ]
  },
  {
   "cell_type": "code",
   "execution_count": null,
   "metadata": {},
   "outputs": [],
   "source": []
  },
  {
   "cell_type": "code",
   "execution_count": 12,
   "metadata": {},
   "outputs": [],
   "source": [
    "# we need to match with this description\n",
    "nvd_description = \"\"\"CVE-2023-35141. In Jenkins 2.399 and earlier, LTS 2.387.3 and earlier, POST requests are sent in order to load the list of context actions. If part of the URL includes insufficiently escaped user-provided values, a victim may be tricked into sending a POST request to an unexpected endpoint by opening a context menu.\"\"\""
   ]
  },
  {
   "cell_type": "code",
   "execution_count": 13,
   "metadata": {},
   "outputs": [],
   "source": [
    "embedding1 = model.encode(nvd_description, convert_to_tensor=True)"
   ]
  },
  {
   "cell_type": "code",
   "execution_count": 14,
   "metadata": {},
   "outputs": [
    {
     "name": "stdout",
     "output_type": "stream",
     "text": [
      "0  -  tensor([[0.5479]]) Jenkins Security Advisory 2023-06-14\n",
      "1  -  tensor([[0.2241]]) How We Fix Security Issues\n",
      "2  -  tensor([[0.5479]]) Jenkins Security Advisory 2023-06-14\n",
      "3  -  tensor([[0.5030]]) This advisory announces vulnerabilities in the following Jenkins deliverables:\n",
      "4  -  tensor([[0.0223]]) Digital.ai App Management Publisher\n",
      "5  -  tensor([[0.2337]]) CSRF protection bypass vulnerability\n",
      "6  -  tensor([[0.4006]]) Jenkins provides context menus for various UI elements, like links to jobs and builds, or breadcrumbs.\n",
      "7  -  tensor([[0.8899]]) In Jenkins 2.399 and earlier, LTS 2.387.3 and earlier, POST requests are sent in order to load the list of context actions. If part of the URL includes insufficiently escaped user-provided values, a victim may be tricked into sending a POST request to an unexpected endpoint (e.g., the Script Console) by opening a context menu.\n",
      "8  -  tensor([[0.5051]]) As of publication of this advisory, we are aware of insufficiently escaped context menu URLs for label expressions, allowing attackers with Item/Configure permissions to exploit this vulnerability.\n",
      "9  -  tensor([[0.6735]]) Jenkins 2.400, LTS 2.401.1 sends GET requests to load the list of context actions.\n",
      "10  -  tensor([[0.0712]]) SSL/TLS certificate validation disabled by default in Checkmarx Plugin\n",
      "11  -  tensor([[0.2676]]) Checkmarx Plugin allows to globally enable or disable SSL/TLS validation for connections to the Checkmarx server. Checkmarx Plugin 2022.4.3 and earlier disables it by default. Unless changed by an administrator, it would cause all connections to the Checkmarx server to ignore SSL/TLS validation, thereby enabling potential man-in-the-middle attacks.\n",
      "12  -  tensor([[0.2476]]) Checkmarx Plugin 2023.2.6 enables SSL/TLS validation by default. Administrators who do not want SSL/TLS validation for connections to the Checkmarx server to be disabled are advised to review their configuration.\n",
      "13  -  tensor([[0.1350]]) Missing permission checks in Team Concert Plugin\n",
      "14  -  tensor([[0.1897]]) Team Concert Plugin 2.4.1 and earlier does not perform permission checks in methods implementing form validation.\n",
      "15  -  tensor([[0.4984]]) This allows attackers with Overall/Read permission to check for the existence of an attacker-specified file path on the Jenkins controller file system.\n",
      "16  -  tensor([[0.1828]]) Team Concert Plugin 2.4.2 requires Overall/Administer permission for the affected form validation methods.\n",
      "17  -  tensor([[0.1395]]) Missing permission check in Dimensions Plugin allows enumerating credentials IDs\n",
      "18  -  tensor([[0.2533]]) Dimensions Plugin 0.9.3 and earlier does not perform a permission check in an HTTP endpoint.\n",
      "19  -  tensor([[0.5128]]) This allows attackers with Overall/Read permission to enumerate credentials IDs of credentials stored in Jenkins. Those can be used as part of an attack to capture the credentials using another vulnerability.\n",
      "20  -  tensor([[0.1878]]) An enumeration of credentials IDs in Dimensions Plugin 0.9.3.1 requires the appropriate permissions.\n",
      "21  -  tensor([[0.0849]]) Exposure of system-scoped credentials in Dimensions Plugin\n",
      "22  -  tensor([[0.2104]]) Dimensions Plugin 0.9.3 and earlier does not set the appropriate context for credentials lookup, allowing the use of System-scoped credentials otherwise reserved for the global configuration.\n",
      "23  -  tensor([[0.3489]]) This allows attackers with Item/Configure permission to access and capture credentials they are not entitled to.\n",
      "24  -  tensor([[0.2512]]) Dimensions Plugin 0.9.3.1 defines the appropriate context for credentials lookup.\n",
      "25  -  tensor([[0.2576]]) Stored XSS vulnerability in Maven Repository Server Plugin\n",
      "26  -  tensor([[0.1113]]) Maven Repository Server Plugin 1.10 and earlier does not escape the versions of build artifacts on the Build Artifacts As Maven Repository page.\n",
      "27  -  tensor([[0.3431]]) This results in a stored cross-site scripting (XSS) vulnerability exploitable by attackers able to control maven project versions in pom.xml.\n",
      "28  -  tensor([[0.3191]]) As of publication of this advisory, there is no fix. Learn why we announce this.\n",
      "29  -  tensor([[0.2576]]) Stored XSS vulnerability in Maven Repository Server Plugin\n",
      "30  -  tensor([[0.1392]]) Maven Repository Server Plugin 1.10 and earlier does not escape project and build display names on the Build Artifacts As Maven Repository page.\n",
      "31  -  tensor([[0.2981]]) This results in a stored cross-site scripting (XSS) vulnerability exploitable by attackers able to change project or build display names.\n",
      "32  -  tensor([[0.3191]]) As of publication of this advisory, there is no fix. Learn why we announce this.\n",
      "33  -  tensor([[0.1759]]) Stored XSS vulnerability in Sonargraph Integration Plugin\n",
      "34  -  tensor([[0.1663]]) Sonargraph Integration Plugin 5.0.1 and earlier does not correctly escape the file path and the project name for the Log file field form validation.\n",
      "35  -  tensor([[0.3385]]) This results in a stored cross-site scripting (XSS) vulnerability exploitable by attackers with Item/Configure permission.\n",
      "36  -  tensor([[0.3042]]) This issue is caused by an incomplete fix of SECURITY-1775. \n",
      "37  -  tensor([[0.3191]]) As of publication of this advisory, there is no fix. Learn why we announce this.\n",
      "38  -  tensor([[0.1904]]) Stored XSS vulnerability in Template Workflows Plugin\n",
      "39  -  tensor([[0.0777]]) Template Workflows Plugin 41.v32d86a_313b_4a and earlier does not escape names of jobs used as buildings blocks for Template Workflow Job.\n",
      "40  -  tensor([[0.3248]]) This results in a stored cross-site scripting (XSS) vulnerability exploitable by attackers able to create jobs.\n",
      "41  -  tensor([[0.3191]]) As of publication of this advisory, there is no fix. Learn why we announce this.\n",
      "42  -  tensor([[0.2135]]) Arbitrary file read vulnerability in AWS CodeCommit Trigger Plugin\n",
      "43  -  tensor([[0.1950]]) AWS CodeCommit Trigger Plugin allows downloading activity logs of AWS Simple Queue Service (SQS) queues.\n",
      "44  -  tensor([[0.4252]]) AWS CodeCommit Trigger Plugin 3.0.12 and earlier does not restrict the queue name path parameter in the corresponding HTTP endpoint, allowing attackers with Item/Read permission to obtain the contents of arbitrary files on the Jenkins controller file system.\n",
      "45  -  tensor([[0.3191]]) As of publication of this advisory, there is no fix. Learn why we announce this.\n",
      "46  -  tensor([[0.1853]]) CSRF vulnerability and missing permission checks in Digital.ai App Management Publisher Plugin\n",
      "47  -  tensor([[0.4223]]) CVE-2023-35148 (CSRF), CVE-2023-35149 (missing permission check)\n",
      "48  -  tensor([[0.1901]]) Digital.ai App Management Publisher Plugin 2.6 and earlier does not perform permission checks in several HTTP endpoints.\n",
      "49  -  tensor([[0.5297]]) This allows attackers with Overall/Read permission to connect to an attacker-specified URL using attacker-specified credentials IDs obtained through another method, capturing credentials stored in Jenkins.\n"
     ]
    }
   ],
   "source": [
    "scores = []\n",
    "for i, line in enumerate(text_list[:50]):\n",
    "    embedding2 = model.encode(line, convert_to_tensor=True)\n",
    "    # compute similarity scores of two embeddings\n",
    "    cosine_scores = util.pytorch_cos_sim(embedding1, embedding2)\n",
    "    print(i, ' - ', cosine_scores, line)\n",
    "    scores.append((i, cosine_scores))"
   ]
  },
  {
   "cell_type": "code",
   "execution_count": null,
   "metadata": {},
   "outputs": [],
   "source": []
  },
  {
   "cell_type": "code",
   "execution_count": 15,
   "metadata": {},
   "outputs": [
    {
     "data": {
      "text/plain": [
       "[0.547927975654602,\n",
       " 0.22405001521110535,\n",
       " 0.547927975654602,\n",
       " 0.5029693841934204,\n",
       " 0.02230500988662243,\n",
       " 0.23366732895374298,\n",
       " 0.40055912733078003,\n",
       " 0.8899480700492859,\n",
       " 0.5050743818283081,\n",
       " 0.6734670996665955,\n",
       " 0.07118936628103256,\n",
       " 0.2676275372505188,\n",
       " 0.24758625030517578,\n",
       " 0.13496413826942444,\n",
       " 0.18966084718704224,\n",
       " 0.4984135925769806,\n",
       " 0.18277204036712646,\n",
       " 0.13951458036899567,\n",
       " 0.2533318102359772,\n",
       " 0.5127754211425781,\n",
       " 0.18778575956821442,\n",
       " 0.08491605520248413,\n",
       " 0.2103704810142517,\n",
       " 0.348925918340683,\n",
       " 0.2511829137802124,\n",
       " 0.2576322555541992,\n",
       " 0.11125274002552032,\n",
       " 0.34309670329093933,\n",
       " 0.31911802291870117,\n",
       " 0.2576322555541992,\n",
       " 0.1392393261194229,\n",
       " 0.29806315898895264,\n",
       " 0.31911802291870117,\n",
       " 0.1758967936038971,\n",
       " 0.1663309931755066,\n",
       " 0.33851033449172974,\n",
       " 0.30420464277267456,\n",
       " 0.31911802291870117,\n",
       " 0.19037753343582153,\n",
       " 0.07773305475711823,\n",
       " 0.3247707486152649,\n",
       " 0.31911802291870117,\n",
       " 0.21348179876804352,\n",
       " 0.19496124982833862,\n",
       " 0.4251755177974701,\n",
       " 0.31911802291870117,\n",
       " 0.18530835211277008,\n",
       " 0.4222944974899292,\n",
       " 0.19013020396232605,\n",
       " 0.5296550989151001,\n",
       " 0.5332010984420776,\n",
       " 0.31911802291870117,\n",
       " 0.05166354030370712,\n",
       " 0.05166354030370712,\n",
       " 0.05166354030370712,\n",
       " 0.05166354030370712,\n",
       " 0.02230500988662243,\n",
       " 0.05166354030370712,\n",
       " 0.05166354030370712,\n",
       " 0.05166354030370712,\n",
       " 0.05166354030370712,\n",
       " 0.05166354030370712,\n",
       " 0.05166354030370712,\n",
       " 0.19136086106300354,\n",
       " 0.19136086106300354,\n",
       " 0.19136086106300354,\n",
       " 0.19136086106300354,\n",
       " 0.19136086106300354,\n",
       " 0.3781992495059967,\n",
       " 0.2579556703567505,\n",
       " 0.02230500988662243,\n",
       " 0.21496452391147614,\n",
       " 0.28792625665664673,\n",
       " 0.22549907863140106,\n",
       " 0.3108469247817993,\n",
       " 0.11047987639904022,\n",
       " 0.0738077163696289,\n",
       " 0.06410280615091324,\n",
       " 0.07424908876419067,\n",
       " 0.025893166661262512,\n",
       " 0.16825026273727417]"
      ]
     },
     "execution_count": 15,
     "metadata": {},
     "output_type": "execute_result"
    }
   ],
   "source": [
    "scores = find_text_similarity(nvd_description=nvd_description, text_list=text_list)\n",
    "scores"
   ]
  },
  {
   "cell_type": "code",
   "execution_count": 16,
   "metadata": {},
   "outputs": [
    {
     "data": {
      "text/plain": [
       "0.8899480700492859"
      ]
     },
     "execution_count": 16,
     "metadata": {},
     "output_type": "execute_result"
    }
   ],
   "source": [
    "scores[7]"
   ]
  },
  {
   "cell_type": "code",
   "execution_count": null,
   "metadata": {},
   "outputs": [],
   "source": []
  },
  {
   "cell_type": "code",
   "execution_count": 17,
   "metadata": {},
   "outputs": [
    {
     "data": {
      "text/plain": [
       "['CSRF protection bypass vulnerability',\n",
       " 'Jenkins provides context menus for various UI elements, like links to jobs and builds, or breadcrumbs.',\n",
       " 'In Jenkins 2.399 and earlier, LTS 2.387.3 and earlier, POST requests are sent in order to load the list of context actions. If part of the URL includes insufficiently escaped user-provided values, a victim may be tricked into sending a POST request to an unexpected endpoint (e.g., the Script Console) by opening a context menu.',\n",
       " 'As of publication of this advisory, we are aware of insufficiently escaped context menu URLs for label expressions, allowing attackers with Item/Configure permissions to exploit this vulnerability.',\n",
       " 'Jenkins 2.400, LTS 2.401.1 sends GET requests to load the list of context actions.']"
      ]
     },
     "execution_count": 17,
     "metadata": {},
     "output_type": "execute_result"
    }
   ],
   "source": [
    "good_text, idx = fetch_relevant_text(scores, text_list)\n",
    "good_text"
   ]
  },
  {
   "cell_type": "code",
   "execution_count": 18,
   "metadata": {},
   "outputs": [
    {
     "data": {
      "text/plain": [
       "7"
      ]
     },
     "execution_count": 18,
     "metadata": {},
     "output_type": "execute_result"
    }
   ],
   "source": [
    "idx"
   ]
  },
  {
   "cell_type": "code",
   "execution_count": null,
   "metadata": {},
   "outputs": [],
   "source": []
  },
  {
   "cell_type": "code",
   "execution_count": 19,
   "metadata": {},
   "outputs": [
    {
     "data": {
      "text/plain": [
       "['CSRF protection bypass vulnerability',\n",
       " 'Jenkins provides context menus for various UI elements, like links to jobs and builds, or breadcrumbs.',\n",
       " 'In Jenkins 2.399 and earlier, LTS 2.387.3 and earlier, POST requests are sent in order to load the list of context actions. If part of the URL includes insufficiently escaped user-provided values, a victim may be tricked into sending a POST request to an unexpected endpoint (e.g., the Script Console) by opening a context menu.',\n",
       " 'As of publication of this advisory, we are aware of insufficiently escaped context menu URLs for label expressions, allowing attackers with Item/Configure permissions to exploit this vulnerability.',\n",
       " 'Jenkins 2.400, LTS 2.401.1 sends GET requests to load the list of context actions.']"
      ]
     },
     "execution_count": 19,
     "metadata": {},
     "output_type": "execute_result"
    }
   ],
   "source": [
    "# fetch the relevant text\n",
    "text_list[max(0, idx-2):min(len(text_list), idx+3)]"
   ]
  },
  {
   "cell_type": "code",
   "execution_count": null,
   "metadata": {},
   "outputs": [],
   "source": []
  },
  {
   "cell_type": "code",
   "execution_count": null,
   "metadata": {},
   "outputs": [],
   "source": []
  },
  {
   "cell_type": "code",
   "execution_count": 20,
   "metadata": {},
   "outputs": [],
   "source": [
    "s = pd.Series(scores)"
   ]
  },
  {
   "cell_type": "code",
   "execution_count": 21,
   "metadata": {},
   "outputs": [
    {
     "data": {
      "text/plain": [
       "<AxesSubplot: >"
      ]
     },
     "execution_count": 21,
     "metadata": {},
     "output_type": "execute_result"
    },
    {
     "data": {
      "image/png": "[encoded data removed]",
      "text/plain": [
       "<Figure size 640x480 with 1 Axes>"
      ]
     },
     "metadata": {},
     "output_type": "display_data"
    }
   ],
   "source": [
    "s.hist()"
   ]
  },
  {
   "cell_type": "code",
   "execution_count": 22,
   "metadata": {},
   "outputs": [
    {
     "data": {
      "text/plain": [
       "0.4    0.190130\n",
       "0.5    0.210370\n",
       "0.6    0.253332\n",
       "0.7    0.310847\n",
       "0.8    0.338510\n",
       "0.9    0.502969\n",
       "dtype: float64"
      ]
     },
     "execution_count": 22,
     "metadata": {},
     "output_type": "execute_result"
    }
   ],
   "source": [
    "s.quantile(q = [0.4, 0.5, 0.6, 0.7, 0.8, 0.9])"
   ]
  },
  {
   "cell_type": "code",
   "execution_count": 23,
   "metadata": {},
   "outputs": [],
   "source": [
    "scores.sort(reverse=True)"
   ]
  },
  {
   "cell_type": "code",
   "execution_count": 24,
   "metadata": {},
   "outputs": [
    {
     "data": {
      "text/plain": [
       "[0.8899480700492859,\n",
       " 0.6734670996665955,\n",
       " 0.547927975654602,\n",
       " 0.547927975654602,\n",
       " 0.5332010984420776,\n",
       " 0.5296550989151001,\n",
       " 0.5127754211425781,\n",
       " 0.5050743818283081,\n",
       " 0.5029693841934204,\n",
       " 0.4984135925769806]"
      ]
     },
     "execution_count": 24,
     "metadata": {},
     "output_type": "execute_result"
    }
   ],
   "source": [
    "scores[:10]"
   ]
  },
  {
   "cell_type": "code",
   "execution_count": null,
   "metadata": {},
   "outputs": [],
   "source": []
  }
 ],
 "metadata": {
  "kernelspec": {
   "display_name": "base",
   "language": "python",
   "name": "python3"
  },
  "language_info": {
   "codemirror_mode": {
    "name": "ipython",
    "version": 3
   },
   "file_extension": ".py",
   "mimetype": "text/x-python",
   "name": "python",
   "nbconvert_exporter": "python",
   "pygments_lexer": "ipython3",
   "version": "3.9.12"
  },
  "orig_nbformat": 4
 },
 "nbformat": 4,
 "nbformat_minor": 2
}
