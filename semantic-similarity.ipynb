{
 "cells": [
  {
   "cell_type": "markdown",
   "metadata": {},
   "source": [
    "# PyTorch Transformers\n",
    "\n",
    "We need to compare if the NVD CVE description matches text from web scraping per HTML tag. Unfortunately, messy but fast enough for what I need\n",
    "\n"
   ]
  },
  {
   "cell_type": "code",
   "execution_count": 1,
   "metadata": {},
   "outputs": [],
   "source": [
    "from sentence_transformers import SentenceTransformer, util\n",
    "import numpy as np"
   ]
  },
  {
   "cell_type": "markdown",
   "metadata": {},
   "source": [
    "## Reference\n",
    "\n",
    "[Semantic Similarity Using Transformers](https://towardsdatascience.com/semantic-similarity-using-transformers-8f3cb5bf66d6)\n",
    "\n"
   ]
  },
  {
   "cell_type": "code",
   "execution_count": 2,
   "metadata": {},
   "outputs": [],
   "source": [
    "model = SentenceTransformer('stsb-roberta-large')\n"
   ]
  },
  {
   "cell_type": "code",
   "execution_count": 3,
   "metadata": {},
   "outputs": [
    {
     "name": "stdout",
     "output_type": "stream",
     "text": [
      "Sentence 1: I like Python because I can build AI applications\n",
      "Sentence 2: I like Python because I can do data analytics\n",
      "Similarity score: 0.8015279173851013\n"
     ]
    }
   ],
   "source": [
    "sentence1 = \"I like Python because I can build AI applications\"\n",
    "sentence2 = \"I like Python because I can do data analytics\"\n",
    "# encode sentences to get their embeddings\n",
    "embedding1 = model.encode(sentence1, convert_to_tensor=True)\n",
    "embedding2 = model.encode(sentence2, convert_to_tensor=True)\n",
    "# compute similarity scores of two embeddings\n",
    "cosine_scores = util.pytorch_cos_sim(embedding1, embedding2)\n",
    "print(\"Sentence 1:\", sentence1)\n",
    "print(\"Sentence 2:\", sentence2)\n",
    "print(\"Similarity score:\", cosine_scores.item())"
   ]
  },
  {
   "cell_type": "code",
   "execution_count": null,
   "metadata": {},
   "outputs": [],
   "source": []
  },
  {
   "cell_type": "code",
   "execution_count": 4,
   "metadata": {},
   "outputs": [],
   "source": [
    "nvd_description = \"\"\"CVE-2023-35141. In Jenkins 2.399 and earlier, LTS 2.387.3 and earlier, POST requests are sent in order to load the list of context actions. If part of the URL includes insufficiently escaped user-provided values, a victim may be tricked into sending a POST request to an unexpected endpoint by opening a context menu.\"\"\"\n",
    "\n",
    "html_description = \"\"\"BERT for Sentence Similarity. So far, so good, but these transformer models had on\"\"\""
   ]
  },
  {
   "cell_type": "code",
   "execution_count": 5,
   "metadata": {},
   "outputs": [
    {
     "name": "stdout",
     "output_type": "stream",
     "text": [
      "Similarity score: 0.1689935177564621\n"
     ]
    }
   ],
   "source": [
    "# encode sentences to get their embeddings\n",
    "embedding1 = model.encode(nvd_description, convert_to_tensor=True)\n",
    "embedding2 = model.encode(html_description, convert_to_tensor=True)\n",
    "# compute similarity scores of two embeddings\n",
    "cosine_scores = util.pytorch_cos_sim(embedding1, embedding2)\n",
    "print(\"Similarity score:\", cosine_scores.item())"
   ]
  },
  {
   "cell_type": "code",
   "execution_count": null,
   "metadata": {},
   "outputs": [],
   "source": []
  },
  {
   "cell_type": "code",
   "execution_count": 6,
   "metadata": {},
   "outputs": [
    {
     "data": {
      "text/plain": [
       "['Descriptions ',\n",
       " 'Descriptions ',\n",
       " 'CSRF protection bypass vulnerability ',\n",
       " 'SECURITY-3135 / CVE-2023-35141',\n",
       " 'Severity (CVSS): High',\n",
       " 'Description:',\n",
       " 'Jenkins provides context menus for various UI elements, like links to jobs and builds, or breadcrumbs.',\n",
       " '',\n",
       " 'In Jenkins 2.399 and earlier, LTS 2.387.3 and earlier, POST requests are sent in order to load the list of context actions. If part of the URL includes insufficiently escaped user-provided values, a victim may be tricked into sending a POST request to an unexpected endpoint (e.g., the Script Console) by opening a context menu.',\n",
       " '',\n",
       " 'As of publication of this advisory, we are aware of insufficiently escaped context menu URLs for label expressions, allowing attackers with Item/Configure permissions to exploit this vulnerability.',\n",
       " '',\n",
       " 'Jenkins 2.400, LTS 2.401.1 sends GET requests to load the list of context actions.',\n",
       " '',\n",
       " 'SSL/TLS certificate validation disabled by default in Checkmarx Plugin ',\n",
       " 'SECURITY-2870 / CVE-2023-35142',\n",
       " 'Severity (CVSS): Medium',\n",
       " 'Affected plugin: checkmarx',\n",
       " 'Description:',\n",
       " 'Checkmarx Plugin allows to globally enable or disable SSL/TLS validation for connections to the Checkmarx server. Checkmarx Plugin 2022.4.3 and earlier disables it by default. Unless changed by an administrator, it would cause all connections to the Checkmarx server to ignore SSL/TLS validation, thereby enabling potential man-in-the-middle attacks.',\n",
       " '',\n",
       " 'Checkmarx Plugin 2023.2.6 enables SSL/TLS validation by default. Administrators who do not want SSL/TLS validation for connections to the Checkmarx server to be disabled are advised to review their configuration.',\n",
       " '',\n",
       " 'Missing permission checks in Team Concert Plugin ',\n",
       " 'SECURITY-2932 / CVE-2023-3315',\n",
       " 'Severity (CVSS): Medium',\n",
       " 'Affected plugin: teamconcert',\n",
       " 'Description:',\n",
       " 'Team Concert Plugin 2.4.1 and earlier does not perform permission checks in methods implementing form validation.',\n",
       " '',\n",
       " 'This allows attackers with Overall/Read permission to check for the existence of an attacker-specified file path on the Jenkins controller file system.',\n",
       " '',\n",
       " 'Team Concert Plugin 2.4.2 requires Overall/Administer permission for the affected form validation methods.',\n",
       " '',\n",
       " 'Missing permission check in Dimensions Plugin allows enumerating credentials IDs ',\n",
       " 'SECURITY-3138 / CVE-2023-32261',\n",
       " 'Severity (CVSS): Medium',\n",
       " 'Affected plugin: dimensionsscm',\n",
       " 'Description:',\n",
       " 'Dimensions Plugin 0.9.3 and earlier does not perform a permission check in an HTTP endpoint.',\n",
       " '',\n",
       " 'This allows attackers with Overall/Read permission to enumerate credentials IDs of credentials stored in Jenkins. Those can be used as part of an attack to capture the credentials using another vulnerability.',\n",
       " '',\n",
       " 'An enumeration of credentials IDs in Dimensions Plugin 0.9.3.1 requires the appropriate permissions.',\n",
       " '',\n",
       " 'Exposure of system-scoped credentials in Dimensions Plugin ',\n",
       " 'SECURITY-3143 / CVE-2023-32262',\n",
       " 'Severity (CVSS): Medium',\n",
       " 'Affected plugin: dimensionsscm',\n",
       " 'Description:',\n",
       " 'Dimensions Plugin 0.9.3 and earlier does not set the appropriate context for credentials lookup, allowing the use of System-scoped credentials otherwise reserved for the global configuration.',\n",
       " '',\n",
       " 'This allows attackers with Item/Configure permission to access and capture credentials they are not entitled to.',\n",
       " '',\n",
       " 'Dimensions Plugin 0.9.3.1 defines the appropriate context for credentials lookup.',\n",
       " '']"
      ]
     },
     "execution_count": 6,
     "metadata": {},
     "output_type": "execute_result"
    }
   ],
   "source": [
    "section = \"\"\"Descriptions \n",
    "Descriptions \n",
    "CSRF protection bypass vulnerability \n",
    "SECURITY-3135 / CVE-2023-35141\n",
    "Severity (CVSS): High\n",
    "Description:\n",
    "Jenkins provides context menus for various UI elements, like links to jobs and builds, or breadcrumbs.\n",
    "\n",
    "In Jenkins 2.399 and earlier, LTS 2.387.3 and earlier, POST requests are sent in order to load the list of context actions. If part of the URL includes insufficiently escaped user-provided values, a victim may be tricked into sending a POST request to an unexpected endpoint (e.g., the Script Console) by opening a context menu.\n",
    "\n",
    "As of publication of this advisory, we are aware of insufficiently escaped context menu URLs for label expressions, allowing attackers with Item/Configure permissions to exploit this vulnerability.\n",
    "\n",
    "Jenkins 2.400, LTS 2.401.1 sends GET requests to load the list of context actions.\n",
    "\n",
    "SSL/TLS certificate validation disabled by default in Checkmarx Plugin \n",
    "SECURITY-2870 / CVE-2023-35142\n",
    "Severity (CVSS): Medium\n",
    "Affected plugin: checkmarx\n",
    "Description:\n",
    "Checkmarx Plugin allows to globally enable or disable SSL/TLS validation for connections to the Checkmarx server. Checkmarx Plugin 2022.4.3 and earlier disables it by default. Unless changed by an administrator, it would cause all connections to the Checkmarx server to ignore SSL/TLS validation, thereby enabling potential man-in-the-middle attacks.\n",
    "\n",
    "Checkmarx Plugin 2023.2.6 enables SSL/TLS validation by default. Administrators who do not want SSL/TLS validation for connections to the Checkmarx server to be disabled are advised to review their configuration.\n",
    "\n",
    "Missing permission checks in Team Concert Plugin \n",
    "SECURITY-2932 / CVE-2023-3315\n",
    "Severity (CVSS): Medium\n",
    "Affected plugin: teamconcert\n",
    "Description:\n",
    "Team Concert Plugin 2.4.1 and earlier does not perform permission checks in methods implementing form validation.\n",
    "\n",
    "This allows attackers with Overall/Read permission to check for the existence of an attacker-specified file path on the Jenkins controller file system.\n",
    "\n",
    "Team Concert Plugin 2.4.2 requires Overall/Administer permission for the affected form validation methods.\n",
    "\n",
    "Missing permission check in Dimensions Plugin allows enumerating credentials IDs \n",
    "SECURITY-3138 / CVE-2023-32261\n",
    "Severity (CVSS): Medium\n",
    "Affected plugin: dimensionsscm\n",
    "Description:\n",
    "Dimensions Plugin 0.9.3 and earlier does not perform a permission check in an HTTP endpoint.\n",
    "\n",
    "This allows attackers with Overall/Read permission to enumerate credentials IDs of credentials stored in Jenkins. Those can be used as part of an attack to capture the credentials using another vulnerability.\n",
    "\n",
    "An enumeration of credentials IDs in Dimensions Plugin 0.9.3.1 requires the appropriate permissions.\n",
    "\n",
    "Exposure of system-scoped credentials in Dimensions Plugin \n",
    "SECURITY-3143 / CVE-2023-32262\n",
    "Severity (CVSS): Medium\n",
    "Affected plugin: dimensionsscm\n",
    "Description:\n",
    "Dimensions Plugin 0.9.3 and earlier does not set the appropriate context for credentials lookup, allowing the use of System-scoped credentials otherwise reserved for the global configuration.\n",
    "\n",
    "This allows attackers with Item/Configure permission to access and capture credentials they are not entitled to.\n",
    "\n",
    "Dimensions Plugin 0.9.3.1 defines the appropriate context for credentials lookup.\n",
    "\"\"\".split('\\n')\n",
    "\n",
    "section"
   ]
  },
  {
   "cell_type": "code",
   "execution_count": 7,
   "metadata": {},
   "outputs": [
    {
     "name": "stdout",
     "output_type": "stream",
     "text": [
      "0  -  tensor([[0.2129]]) Descriptions \n",
      "1  -  tensor([[0.2129]]) Descriptions \n",
      "2  -  tensor([[0.3670]]) CSRF protection bypass vulnerability \n",
      "3  -  tensor([[0.5066]]) SECURITY-3135 / CVE-2023-35141\n",
      "4  -  tensor([[0.0836]]) Severity (CVSS): High\n",
      "5  -  tensor([[0.1312]]) Description:\n",
      "6  -  tensor([[0.3685]]) Jenkins provides context menus for various UI elements, like links to jobs and builds, or breadcrumbs.\n",
      "8  -  tensor([[0.9248]]) In Jenkins 2.399 and earlier, LTS 2.387.3 and earlier, POST requests are sent in order to load the list of context actions. If part of the URL includes insufficiently escaped user-provided values, a victim may be tricked into sending a POST request to an unexpected endpoint (e.g., the Script Console) by opening a context menu.\n",
      "10  -  tensor([[0.5226]]) As of publication of this advisory, we are aware of insufficiently escaped context menu URLs for label expressions, allowing attackers with Item/Configure permissions to exploit this vulnerability.\n",
      "12  -  tensor([[0.4651]]) Jenkins 2.400, LTS 2.401.1 sends GET requests to load the list of context actions.\n",
      "14  -  tensor([[0.3086]]) SSL/TLS certificate validation disabled by default in Checkmarx Plugin \n",
      "15  -  tensor([[0.3883]]) SECURITY-2870 / CVE-2023-35142\n",
      "16  -  tensor([[0.0554]]) Severity (CVSS): Medium\n",
      "17  -  tensor([[0.2768]]) Affected plugin: checkmarx\n",
      "18  -  tensor([[0.1312]]) Description:\n",
      "19  -  tensor([[0.5478]]) Checkmarx Plugin allows to globally enable or disable SSL/TLS validation for connections to the Checkmarx server. Checkmarx Plugin 2022.4.3 and earlier disables it by default. Unless changed by an administrator, it would cause all connections to the Checkmarx server to ignore SSL/TLS validation, thereby enabling potential man-in-the-middle attacks.\n",
      "21  -  tensor([[0.3715]]) Checkmarx Plugin 2023.2.6 enables SSL/TLS validation by default. Administrators who do not want SSL/TLS validation for connections to the Checkmarx server to be disabled are advised to review their configuration.\n",
      "23  -  tensor([[0.3619]]) Missing permission checks in Team Concert Plugin \n",
      "24  -  tensor([[0.3475]]) SECURITY-2932 / CVE-2023-3315\n",
      "25  -  tensor([[0.0554]]) Severity (CVSS): Medium\n",
      "26  -  tensor([[0.0801]]) Affected plugin: teamconcert\n",
      "27  -  tensor([[0.1312]]) Description:\n",
      "28  -  tensor([[0.3036]]) Team Concert Plugin 2.4.1 and earlier does not perform permission checks in methods implementing form validation.\n",
      "30  -  tensor([[0.5630]]) This allows attackers with Overall/Read permission to check for the existence of an attacker-specified file path on the Jenkins controller file system.\n",
      "32  -  tensor([[0.2200]]) Team Concert Plugin 2.4.2 requires Overall/Administer permission for the affected form validation methods.\n",
      "34  -  tensor([[0.5025]]) Missing permission check in Dimensions Plugin allows enumerating credentials IDs \n",
      "35  -  tensor([[0.3969]]) SECURITY-3138 / CVE-2023-32261\n",
      "36  -  tensor([[0.0554]]) Severity (CVSS): Medium\n",
      "37  -  tensor([[0.2591]]) Affected plugin: dimensionsscm\n",
      "38  -  tensor([[0.1312]]) Description:\n",
      "39  -  tensor([[0.4735]]) Dimensions Plugin 0.9.3 and earlier does not perform a permission check in an HTTP endpoint.\n",
      "41  -  tensor([[0.6027]]) This allows attackers with Overall/Read permission to enumerate credentials IDs of credentials stored in Jenkins. Those can be used as part of an attack to capture the credentials using another vulnerability.\n",
      "43  -  tensor([[0.3646]]) An enumeration of credentials IDs in Dimensions Plugin 0.9.3.1 requires the appropriate permissions.\n",
      "45  -  tensor([[0.2452]]) Exposure of system-scoped credentials in Dimensions Plugin \n",
      "46  -  tensor([[0.3912]]) SECURITY-3143 / CVE-2023-32262\n",
      "47  -  tensor([[0.0554]]) Severity (CVSS): Medium\n",
      "48  -  tensor([[0.2591]]) Affected plugin: dimensionsscm\n",
      "49  -  tensor([[0.1312]]) Description:\n",
      "50  -  tensor([[0.4875]]) Dimensions Plugin 0.9.3 and earlier does not set the appropriate context for credentials lookup, allowing the use of System-scoped credentials otherwise reserved for the global configuration.\n",
      "52  -  tensor([[0.4738]]) This allows attackers with Item/Configure permission to access and capture credentials they are not entitled to.\n",
      "54  -  tensor([[0.4040]]) Dimensions Plugin 0.9.3.1 defines the appropriate context for credentials lookup.\n"
     ]
    }
   ],
   "source": [
    "scores = []\n",
    "for i, line in enumerate(section):\n",
    "    if line:\n",
    "        embedding2 = model.encode(line, convert_to_tensor=True)\n",
    "        # compute similarity scores of two embeddings\n",
    "        cosine_scores = util.pytorch_cos_sim(embedding1, embedding2)\n",
    "        print(i, ' - ', cosine_scores, line)\n",
    "        scores.append((i, cosine_scores))"
   ]
  },
  {
   "cell_type": "code",
   "execution_count": null,
   "metadata": {},
   "outputs": [],
   "source": []
  },
  {
   "cell_type": "markdown",
   "metadata": {},
   "source": [
    "What I will do is look at the sentence/tag with the highest score (if the score is above 80%). I will grab the paragraph text above and below that tag (3 tags in total). THen return that data as the article.\n",
    "\n",
    "\n",
    "So let's demo this\n"
   ]
  },
  {
   "cell_type": "code",
   "execution_count": null,
   "metadata": {},
   "outputs": [],
   "source": []
  },
  {
   "cell_type": "code",
   "execution_count": 8,
   "metadata": {},
   "outputs": [],
   "source": [
    "\"\"\"\n",
    "Vendor Articles from CVEs\n",
    "\"\"\"\n",
    "\n",
    "import pandas as pd\n",
    "import requests\n",
    "from bs4 import BeautifulSoup\n",
    "\n",
    "URL = \"https://www.jenkins.io/security/advisory/2023-06-14/\"\n",
    "\n",
    "\n",
    "def beautiful_request(url):\n",
    "    response = requests.get(url = url, timeout=(4, 5))\n",
    "    # Before passing response.text to Beautifulsoup\n",
    "    # we need to remove any \\n that are within sentences and\n",
    "    # unrelated to HTML new lines\n",
    "    soup = BeautifulSoup(response.text.replace('.\\n', '. '))\n",
    "    # does this after is trickier...or at least requires more thought\n",
    "    # this is faster for now...\n",
    "    return soup\n",
    "\n",
    "\n",
    "def spaces_filter(text_list):\n",
    "    # ['this', ' ', ' ', 'that', 'this']\n",
    "    return len(text_list) > 0\n",
    "\n",
    "\n",
    "def word_count(text):\n",
    "    text_list = text.split(' ') # get rid of extra spaces so they don't count\n",
    "    text_list = list(filter(spaces_filter, text_list))\n",
    "    return len(text_list)\n",
    "\n",
    "\n",
    "def word_count_filter(text):\n",
    "    n = word_count(text)\n",
    "    return n > 3\n",
    "\n",
    "\n",
    "def text_prep(soup):\n",
    "    # we get all this html code, let's just grab the text\n",
    "    text = soup.text.split('\\n')\n",
    "    #text # we get a lot of empty junk, so filter it out\n",
    "    text = list(filter(spaces_filter, text))\n",
    "    text = list(filter(word_count_filter, text)) # should I combine this with the above?\n",
    "    text_list = text\n",
    "    return text_list"
   ]
  },
  {
   "cell_type": "code",
   "execution_count": 9,
   "metadata": {},
   "outputs": [],
   "source": [
    "response = requests.get(url = URL, timeout=(4, 5))\n",
    "htmltext = response.text.replace('.\\n', '. ')"
   ]
  },
  {
   "cell_type": "code",
   "execution_count": 10,
   "metadata": {},
   "outputs": [],
   "source": [
    "#soup = BeautifulSoup(htmltext)\n",
    "#soup"
   ]
  },
  {
   "cell_type": "code",
   "execution_count": null,
   "metadata": {},
   "outputs": [],
   "source": []
  },
  {
   "cell_type": "code",
   "execution_count": 11,
   "metadata": {},
   "outputs": [
    {
     "data": {
      "text/plain": [
       "'<!DOCTYPE html>\\n<html lang=\"en\">\\n<head>\\n<title>\\nJenkins Security Advisory 2023-06-14\\n</title>\\n<meta content=\"text/html; charset=utf-8\" http-equiv=\"Content-Type\"/>\\n<meta content=\"Jenkins â\\x80\\x93 an open source automation server which enables developers around the world to reliably build, test, and deploy their software\" name=\"description\"/>\\n<meta charset=\"utf-8\"/>\\n<meta content=\"width=device-width, initial-scale=1\" name=\"viewport\"/>\\n<meta content=\"ie=edge\" http-equiv=\"x-ua-compatible\"/>\\n<link href=\"https://www.jenkins.io/security/advisory/2023-06-14/\" rel=\"canonical\"/>\\n<!-- Favicons -->\\n<link href=\"/favicon.ico\" rel=\"shortcut icon\" type=\"image/x-icon\"/>\\n<link href=\"/apple-touch-icon.png\" rel=\"apple-touch-icon\" sizes=\"180x180\"/>\\n<link href=\"/favicon-32x32.png\" rel=\"icon\" sizes=\"32x32\" type=\"image/png\"/>\\n<link href=\"/favicon-16x16.png\" rel=\"icon\" sizes=\"16x16\" type=\"image/png\"/>\\n<link href=\"/site.webmanifest\" rel=\"manifest\"/>\\n<link color=\"#5bbad5\" href=\"/safari-pinned-tab.svg\" rel=\"mask-icon\"/>\\n<meta content=\"#2b5797\" name=\"msapplication-TileColor\"/>\\n<meta content=\"#ffffff\" name=\"theme-color\"/>\\n<meta content=\"Jenkins Security Advisory 2023-06-14\" name=\"apple-mobile-web-app-title\"/>\\n<!-- Twitter Card data -->\\n<meta content=\"summary_large_image\" name=\"twitter:card\"/>\\n<meta content=\"@JenkinsCI\" name=\"twitter:site\"/>\\n<meta content=\"Jenkins Security Advisory 2023-06-14\" name=\"twitter:title\"/>\\n<meta content=\"Jenkins â\\x80\\x93 an open source automation server which enables developers around the world to reliably build, test, and deploy their software\" name=\"twitter:description\"/>\\n<meta content=\"@JenkinsCI\" name=\"twitter:creator\"/>\\n<!-- Twitter Summary card images must be at least 120x120px -->\\n<meta content=\"/images/logo-title-opengraph.png\" name=\"twitter:image\"/>\\n<!-- Open Graph data -->\\n<meta content=\"Jenkins Security Advisory 2023-06-14\" property=\"og:title\"/>\\n<meta content=\"article\" property=\"og:type\"/>\\n<meta content=\"https://www.jenkins.io/security/advisory/2023-06-14/\" property=\"og:url\"/>\\n<meta content=\"Jenkins â\\x80\\x93 an open source automation server which enables developers around the world to reliably build, test, and deploy their software\" name=\"og:description\"/>\\n<meta content=\"Jenkins Security Advisory 2023-06-14\" property=\"og:site_name\"/>\\n<meta content=\"/images/logo-title-opengraph.png\" name=\"og:image\"/>\\n<link href=\"/assets/bower/bootstrap/css/bootstrap.min.css\" media=\"screen\" rel=\"stylesheet\"/>\\n<link href=\"/css/jenkins.css\" media=\"screen\" rel=\"stylesheet\"/>\\n<link href=\"/css/copy-to-clipboard.css\" media=\"screen\" rel=\"stylesheet\"/>\\n<link href=\"/stylesheets/styles.css\" media=\"screen\" rel=\"stylesheet\"/>\\n<!-- Non-obtrusive CSS styles -->\\n<link href=\"/css/footer.css\" media=\"screen\" rel=\"stylesheet\"/>\\n<link href=\"/css/font-awesome.min.css\" media=\"screen\" rel=\"stylesheet\"/>\\n<link href=\"https://cdn.jsdelivr.net/npm/@docsearch/css@3\" rel=\"stylesheet\"/>\\n</head>\\n<body>\\n<script src=\"/assets/bower/jquery/jquery.min.js\"></script>\\n<script src=\"/js/copy-to-clipboard.js\"></script>\\n<jio-navbar class=\"fixed-nav\" id=\"ji-toolbar\" property=\"https://www.jenkins.io\" showsearchbox=\"\"></jio-navbar>\\n<script>\\n  window.addEventListener(\\'DOMContentLoaded\\', function () {\\n    for (var i = 1 ; i <= 6 ; i ++) {\\n      anchors.add(\\'.container .row .col-lg-9 h\\' + i);\\n    }\\n  })\\n</script>\\n<div class=\"container\">\\n<div class=\"row body\">\\n<div class=\"col-lg-3\">\\n<div class=\"sidebar-nav tour\">\\n<p>\\n<a class=\"\" href=\"/security/\">Jenkins Security Home</a>\\n</p>\\n<strong>\\nFor Administrators\\n</strong>\\n<ul>\\n<li>\\n<a class=\"\" href=\"/security/for-administrators/\">Overview</a>\\n</li>\\n<li>\\n<a class=\"\" href=\"/security/advisories/\">Security Advisories</a>\\n</li>\\n<li>\\n<a class=\"\" href=\"/security/scheduling/\">Advisory Schedule</a>\\n</li>\\n<li>\\n<a class=\"\" href=\"/security/plugins/\">Vulnerabilities in Plugins</a>\\n</li>\\n<li>\\n<a class=\"\" href=\"/security/fixing/\">How We Fix Security Issues</a>\\n</li>\\n</ul>\\n<strong>\\nFor Reporters\\n</strong>\\n<ul>\\n<li>\\n<a class=\"\" href=\"/security/reporting/\">Reporting Vulnerabilities</a>\\n</li>\\n<li>\\n<a class=\"\" href=\"/security/cna/\">Jenkins CNA</a>\\n</li>\\n</ul>\\n<strong>\\nFor Maintainers\\n</strong>\\n<ul>\\n<li>\\n<a class=\"\" href=\"/security/for-maintainers/\">Overview</a>\\n</li>\\n<li>\\n<a class=\"\" href=\"/security/plugins/\">Vulnerabilities in Plugins</a>\\n</li>\\n</ul>\\n<strong>\\nJenkins Security Team\\n</strong>\\n<ul>\\n<li>\\n<a class=\"\" href=\"/security/team/\">About</a>\\n</li>\\n<li>\\n<a class=\"\" href=\"/security/improvements/\">Contributions</a>\\n</li>\\n</ul>\\n</div>\\n</div>\\n<div class=\"col-lg-9\">\\n<h1>\\nJenkins Security Advisory 2023-06-14\\n</h1>\\n<p>\\nThis advisory announces vulnerabilities in the following Jenkins deliverables:\\n</p>\\n<p>\\n</p><ul>\\n<li>\\nJenkins (core)\\n</li>\\n<li>\\n<a href=\"https://plugins.jenkins.io/aws-codecommit-trigger\">\\nAWS CodeCommit Trigger\\nPlugin\\n</a>\\n</li>\\n<li>\\n<a href=\"https://plugins.jenkins.io/checkmarx\">\\nCheckmarx\\nPlugin\\n</a>\\n</li>\\n<li>\\n<a href=\"https://plugins.jenkins.io/ease-plugin\">\\nDigital.ai App Management Publisher\\nPlugin\\n</a>\\n</li>\\n<li>\\n<a href=\"https://plugins.jenkins.io/dimensionsscm\">\\nDimensions\\nPlugin\\n</a>\\n</li>\\n<li>\\n<a href=\"https://plugins.jenkins.io/repository\">\\nMaven Repository Server\\nPlugin\\n</a>\\n</li>\\n<li>\\n<a href=\"https://plugins.jenkins.io/sonargraph-integration\">\\nSonargraph Integration\\nPlugin\\n</a>\\n</li>\\n<li>\\n<a href=\"https://plugins.jenkins.io/teamconcert\">\\nTeam Concert\\nPlugin\\n</a>\\n</li>\\n<li>\\n<a href=\"https://plugins.jenkins.io/template-workflows\">\\nTemplate Workflows\\nPlugin\\n</a>\\n</li>\\n</ul>\\n<h2>\\nDescriptions\\n</h2>\\n<h3 id=\"SECURITY-3135\">\\nCSRF protection bypass vulnerability\\n</h3>\\n<strong>\\nSECURITY-3135\\n/\\nCVE-2023-35141\\n</strong>\\n<br/>\\n<strong>\\nSeverity (CVSS):\\n</strong>\\n<a href=\"https://www.first.org/cvss/calculator/3.1#CVSS:3.1/AV:N/AC:L/PR:L/UI:R/S:U/C:H/I:H/A:H\">\\nHigh\\n</a>\\n<br/>\\n<strong>\\nDescription:\\n</strong>\\n<div class=\"paragraph\">\\n<p>Jenkins provides context menus for various UI elements, like links to jobs and builds, or breadcrumbs.</p>\\n</div>\\n<div class=\"paragraph\">\\n<p>In Jenkins 2.399 and earlier, LTS 2.387.3 and earlier, POST requests are sent in order to load the list of context actions. If part of the URL includes insufficiently escaped user-provided values, a victim may be tricked into sending a POST request to an unexpected endpoint (e.g., the Script Console) by opening a context menu.</p>\\n</div>\\n<div class=\"paragraph\">\\n<p>As of publication of this advisory, we are aware of insufficiently escaped context menu URLs for label expressions, allowing attackers with Item/Configure permissions to exploit this vulnerability.</p>\\n</div>\\n<div class=\"paragraph\">\\n<p>Jenkins 2.400, LTS 2.401.1 sends GET requests to load the list of context actions.</p>\\n</div>\\n<h3 id=\"SECURITY-2870\">\\nSSL/TLS certificate validation disabled by default in Checkmarx Plugin\\n</h3>\\n<strong>\\nSECURITY-2870\\n/\\nCVE-2023-35142\\n</strong>\\n<br/>\\n<strong>\\nSeverity (CVSS):\\n</strong>\\n<a href=\"https://www.first.org/cvss/calculator/3.1#CVSS:3.1/AV:N/AC:H/PR:L/UI:N/S:U/C:H/I:L/A:N\">\\nMedium\\n</a>\\n<br/>\\n<strong>\\nAffected plugin:\\n<nobr>\\n<a href=\"https://plugins.jenkins.io/checkmarx\">\\n<code>checkmarx</code>\\n</a>\\n</nobr>\\n</strong>\\n<br/>\\n<strong>\\nDescription:\\n</strong>\\n<div class=\"paragraph\">\\n<p>Checkmarx Plugin allows to globally enable or disable SSL/TLS validation for connections to the Checkmarx server. Checkmarx Plugin 2022.4.3 and earlier disables it by default. Unless changed by an administrator, it would cause all connections to the Checkmarx server to ignore SSL/TLS validation, thereby enabling potential man-in-the-middle attacks.</p>\\n</div>\\n<div class=\"paragraph\">\\n<p>Checkmarx Plugin 2023.2.6 enables SSL/TLS validation by default. Administrators who do not want SSL/TLS validation for connections to the Checkmarx server to be disabled are advised to review their configuration.</p>\\n</div>\\n<h3 id=\"SECURITY-2932\">\\nMissing permission checks in Team Concert Plugin\\n</h3>\\n<strong>\\nSECURITY-2932\\n/\\nCVE-2023-3315\\n</strong>\\n<br/>\\n<strong>\\nSeverity (CVSS):\\n</strong>\\n<a href=\"https://www.first.org/cvss/calculator/3.1#CVSS:3.1/AV:N/AC:L/PR:L/UI:N/S:U/C:L/I:N/A:N\">\\nMedium\\n</a>\\n<br/>\\n<strong>\\nAffected plugin:\\n<nobr>\\n<a href=\"https://plugins.jenkins.io/teamconcert\">\\n<code>teamconcert</code>\\n</a>\\n</nobr>\\n</strong>\\n<br/>\\n<strong>\\nDescription:\\n</strong>\\n<div class=\"paragraph\">\\n<p>Team Concert Plugin 2.4.1 and earlier does not perform permission checks in methods implementing form validation.</p>\\n</div>\\n<div class=\"paragraph\">\\n<p>This allows attackers with Overall/Read permission to check for the existence of an attacker-specified file path on the Jenkins controller file system.</p>\\n</div>\\n<div class=\"paragraph\">\\n<p>Team Concert Plugin 2.4.2 requires Overall/Administer permission for the affected form validation methods.</p>\\n</div>\\n<h3 id=\"SECURITY-3138\">\\nMissing permission check in Dimensions Plugin allows enumerating credentials IDs\\n</h3>\\n<strong>\\nSECURITY-3138\\n/\\nCVE-2023-32261\\n</strong>\\n<br/>\\n<strong>\\nSeverity (CVSS):\\n</strong>\\n<a href=\"https://www.first.org/cvss/calculator/3.1#CVSS:3.1/AV:N/AC:H/PR:L/UI:N/S:U/C:L/I:L/A:N\">\\nMedium\\n</a>\\n<br/>\\n<strong>\\nAffected plugin:\\n<nobr>\\n<a href=\"https://plugins.jenkins.io/dimensionsscm\">\\n<code>dimensionsscm</code>\\n</a>\\n</nobr>\\n</strong>\\n<br/>\\n<strong>\\nDescription:\\n</strong>\\n<div class=\"paragraph\">\\n<p>Dimensions Plugin 0.9.3 and earlier does not perform a permission check in an HTTP endpoint.</p>\\n</div>\\n<div class=\"paragraph\">\\n<p>This allows attackers with Overall/Read permission to enumerate credentials IDs of credentials stored in Jenkins. Those can be used as part of an attack to capture the credentials using another vulnerability.</p>\\n</div>\\n<div class=\"paragraph\">\\n<p>An enumeration of credentials IDs in Dimensions Plugin 0.9.3.1 requires the appropriate permissions.</p>\\n</div>\\n<h3 id=\"SECURITY-3143\">\\nExposure of system-scoped credentials in Dimensions Plugin\\n</h3>\\n<strong>\\nSECURITY-3143\\n/\\nCVE-2023-32262\\n</strong>\\n<br/>\\n<strong>\\nSeverity (CVSS):\\n</strong>\\n<a href=\"https://www.first.org/cvss/calculator/3.1#CVSS:3.1/AV:N/AC:L/PR:L/UI:N/S:U/C:L/I:N/A:N\">\\nMedium\\n</a>\\n<br/>\\n<strong>\\nAffected plugin:\\n<nobr>\\n<a href=\"https://plugins.jenkins.io/dimensionsscm\">\\n<code>dimensionsscm</code>\\n</a>\\n</nobr>\\n</strong>\\n<br/>\\n<strong>\\nDescription:\\n</strong>\\n<div class=\"paragraph\">\\n<p>Dimensions Plugin 0.9.3 and earlier does not set the appropriate context for credentials lookup, allowing the use of System-scoped credentials otherwise reserved for the global configuration.</p>\\n</div>\\n<div class=\"paragraph\">\\n<p>This allows attackers with Item/Configure permission to access and capture credentials they are not entitled to.</p>\\n</div>\\n<div class=\"paragraph\">\\n<p>Dimensions Plugin 0.9.3.1 defines the appropriate context for credentials lookup.</p>\\n</div>\\n<h3 id=\"SECURITY-3156\">\\nStored XSS vulnerability in Maven Repository Server Plugin\\n</h3>\\n<strong>\\nSECURITY-3156\\n/\\nCVE-2023-35143\\n</strong>\\n<br/>\\n<strong>\\nSeverity (CVSS):\\n</strong>\\n<a href=\"https://www.first.org/cvss/calculator/3.1#CVSS:3.1/AV:N/AC:L/PR:L/UI:R/S:U/C:H/I:H/A:H\">\\nHigh\\n</a>\\n<br/>\\n<strong>\\nAffected plugin:\\n<nobr>\\n<a href=\"https://plugins.jenkins.io/repository\">\\n<code>repository</code>\\n</a>\\n</nobr>\\n</strong>\\n<br/>\\n<strong>\\nDescription:\\n</strong>\\n<div class=\"paragraph\">\\n<p>Maven Repository Server Plugin 1.10 and earlier does not escape the versions of build artifacts on the Build Artifacts As Maven Repository page.</p>\\n</div>\\n<div class=\"paragraph\">\\n<p>This results in a stored cross-site scripting (XSS) vulnerability exploitable by attackers able to control maven project versions in <code>pom.xml</code>.</p>\\n</div>\\n<div class=\"paragraph\">\\n<p>As of publication of this advisory, there is no fix. <a href=\"/security/plugins/#unresolved\">Learn why we announce this.</a></p>\\n</div>\\n<h3 id=\"SECURITY-2951\">\\nStored XSS vulnerability in Maven Repository Server Plugin\\n</h3>\\n<strong>\\nSECURITY-2951\\n/\\nCVE-2023-35144\\n</strong>\\n<br/>\\n<strong>\\nSeverity (CVSS):\\n</strong>\\n<a href=\"https://www.first.org/cvss/calculator/3.1#CVSS:3.1/AV:N/AC:L/PR:L/UI:R/S:U/C:H/I:H/A:H\">\\nHigh\\n</a>\\n<br/>\\n<strong>\\nAffected plugin:\\n<nobr>\\n<a href=\"https://plugins.jenkins.io/repository\">\\n<code>repository</code>\\n</a>\\n</nobr>\\n</strong>\\n<br/>\\n<strong>\\nDescription:\\n</strong>\\n<div class=\"paragraph\">\\n<p>Maven Repository Server Plugin 1.10 and earlier does not escape project and build display names on the Build Artifacts As Maven Repository page.</p>\\n</div>\\n<div class=\"paragraph\">\\n<p>This results in a stored cross-site scripting (XSS) vulnerability exploitable by attackers able to change project or build display names.</p>\\n</div>\\n<div class=\"paragraph\">\\n<p>As of publication of this advisory, there is no fix. <a href=\"/security/plugins/#unresolved\">Learn why we announce this.</a></p>\\n</div>\\n<h3 id=\"SECURITY-3155\">\\nStored XSS vulnerability in Sonargraph Integration Plugin\\n</h3>\\n<strong>\\nSECURITY-3155\\n/\\nCVE-2023-35145\\n</strong>\\n<br/>\\n<strong>\\nSeverity (CVSS):\\n</strong>\\n<a href=\"https://www.first.org/cvss/calculator/3.1#CVSS:3.1/AV:N/AC:L/PR:L/UI:R/S:U/C:H/I:H/A:H\">\\nHigh\\n</a>\\n<br/>\\n<strong>\\nAffected plugin:\\n<nobr>\\n<a href=\"https://plugins.jenkins.io/sonargraph-integration\">\\n<code>sonargraph-integration</code>\\n</a>\\n</nobr>\\n</strong>\\n<br/>\\n<strong>\\nDescription:\\n</strong>\\n<div class=\"paragraph\">\\n<p>Sonargraph Integration Plugin 5.0.1 and earlier does not correctly escape the file path and the project name for the Log file field form validation.</p>\\n</div>\\n<div class=\"paragraph\">\\n<p>This results in a stored cross-site scripting (XSS) vulnerability exploitable by attackers with Item/Configure permission.</p>\\n</div>\\n<div class=\"admonitionblock note\">\\n<table>\\n<tr>\\n<td class=\"icon\">\\n<i class=\"fa icon-note\" title=\"Note\"></i>\\n</td>\\n<td class=\"content\">\\nThis issue is caused by an incomplete fix of <a href=\"/security/advisory/2020-07-02/#SECURITY-1775\">SECURITY-1775</a>. </td>\\n</tr>\\n</table>\\n</div>\\n<div class=\"paragraph\">\\n<p>As of publication of this advisory, there is no fix. <a href=\"/security/plugins/#unresolved\">Learn why we announce this.</a></p>\\n</div>\\n<h3 id=\"SECURITY-3166\">\\nStored XSS vulnerability in Template Workflows Plugin\\n</h3>\\n<strong>\\nSECURITY-3166\\n/\\nCVE-2023-35146\\n</strong>\\n<br/>\\n<strong>\\nSeverity (CVSS):\\n</strong>\\n<a href=\"https://www.first.org/cvss/calculator/3.1#CVSS:3.1/AV:N/AC:L/PR:L/UI:R/S:U/C:H/I:H/A:H\">\\nHigh\\n</a>\\n<br/>\\n<strong>\\nAffected plugin:\\n<nobr>\\n<a href=\"https://plugins.jenkins.io/template-workflows\">\\n<code>template-workflows</code>\\n</a>\\n</nobr>\\n</strong>\\n<br/>\\n<strong>\\nDescription:\\n</strong>\\n<div class=\"paragraph\">\\n<p>Template Workflows Plugin 41.v32d86a_313b_4a and earlier does not escape names of jobs used as buildings blocks for Template Workflow Job.</p>\\n</div>\\n<div class=\"paragraph\">\\n<p>This results in a stored cross-site scripting (XSS) vulnerability exploitable by attackers able to create jobs.</p>\\n</div>\\n<div class=\"paragraph\">\\n<p>As of publication of this advisory, there is no fix. <a href=\"/security/plugins/#unresolved\">Learn why we announce this.</a></p>\\n</div>\\n<h3 id=\"SECURITY-3099\">\\nArbitrary file read vulnerability in AWS CodeCommit Trigger Plugin\\n</h3>\\n<strong>\\nSECURITY-3099\\n/\\nCVE-2023-35147\\n</strong>\\n<br/>\\n<strong>\\nSeverity (CVSS):\\n</strong>\\n<a href=\"https://www.first.org/cvss/calculator/3.1#CVSS:3.1/AV:N/AC:L/PR:L/UI:N/S:U/C:H/I:N/A:N\">\\nMedium\\n</a>\\n<br/>\\n<strong>\\nAffected plugin:\\n<nobr>\\n<a href=\"https://plugins.jenkins.io/aws-codecommit-trigger\">\\n<code>aws-codecommit-trigger</code>\\n</a>\\n</nobr>\\n</strong>\\n<br/>\\n<strong>\\nDescription:\\n</strong>\\n<div class=\"paragraph\">\\n<p>AWS CodeCommit Trigger Plugin allows downloading activity logs of AWS Simple Queue Service (SQS) queues.</p>\\n</div>\\n<div class=\"paragraph\">\\n<p>AWS CodeCommit Trigger Plugin 3.0.12 and earlier does not restrict the queue name path parameter in the corresponding HTTP endpoint, allowing attackers with Item/Read permission to obtain the contents of arbitrary files on the Jenkins controller file system.</p>\\n</div>\\n<div class=\"paragraph\">\\n<p>As of publication of this advisory, there is no fix. <a href=\"/security/plugins/#unresolved\">Learn why we announce this.</a></p>\\n</div>\\n<h3 id=\"SECURITY-2911\">\\nCSRF vulnerability and missing permission checks in Digital.ai App Management Publisher Plugin\\n</h3>\\n<strong>\\nSECURITY-2911\\n/\\nCVE-2023-35148 (CSRF), CVE-2023-35149 (missing permission check)\\n</strong>\\n<br/>\\n<strong>\\nSeverity (CVSS):\\n</strong>\\n<a href=\"https://www.first.org/cvss/calculator/3.1#CVSS:3.1/AV:N/AC:H/PR:L/UI:N/S:U/C:L/I:L/A:N\">\\nMedium\\n</a>\\n<br/>\\n<strong>\\nAffected plugin:\\n<nobr>\\n<a href=\"https://plugins.jenkins.io/ease-plugin\">\\n<code>ease-plugin</code>\\n</a>\\n</nobr>\\n</strong>\\n<br/>\\n<strong>\\nDescription:\\n</strong>\\n<div class=\"paragraph\">\\n<p>Digital.ai App Management Publisher Plugin 2.6 and earlier does not perform permission checks in several HTTP endpoints.</p>\\n</div>\\n<div class=\"paragraph\">\\n<p>This allows attackers with Overall/Read permission to connect to an attacker-specified URL using attacker-specified credentials IDs obtained through another method, capturing credentials stored in Jenkins.</p>\\n</div>\\n<div class=\"paragraph\">\\n<p>Additionally, these HTTP endpoints do not require POST requests, resulting in a cross-site request forgery (CSRF) vulnerability.</p>\\n</div>\\n<div class=\"paragraph\">\\n<p>As of publication of this advisory, there is no fix. <a href=\"/security/plugins/#unresolved\">Learn why we announce this.</a></p>\\n</div>\\n<h2>\\nSeverity\\n</h2>\\n<ul>\\n<li>\\nSECURITY-2870:\\n<a href=\"https://www.first.org/cvss/calculator/3.1#CVSS:3.1/AV:N/AC:H/PR:L/UI:N/S:U/C:H/I:L/A:N\">\\nMedium\\n</a>\\n</li>\\n<li>\\nSECURITY-2911:\\n<a href=\"https://www.first.org/cvss/calculator/3.1#CVSS:3.1/AV:N/AC:H/PR:L/UI:N/S:U/C:L/I:L/A:N\">\\nMedium\\n</a>\\n</li>\\n<li>\\nSECURITY-2932:\\n<a href=\"https://www.first.org/cvss/calculator/3.1#CVSS:3.1/AV:N/AC:L/PR:L/UI:N/S:U/C:L/I:N/A:N\">\\nMedium\\n</a>\\n</li>\\n<li>\\nSECURITY-2951:\\n<a href=\"https://www.first.org/cvss/calculator/3.1#CVSS:3.1/AV:N/AC:L/PR:L/UI:R/S:U/C:H/I:H/A:H\">\\nHigh\\n</a>\\n</li>\\n<li>\\nSECURITY-3099:\\n<a href=\"https://www.first.org/cvss/calculator/3.1#CVSS:3.1/AV:N/AC:L/PR:L/UI:N/S:U/C:H/I:N/A:N\">\\nMedium\\n</a>\\n</li>\\n<li>\\nSECURITY-3135:\\n<a href=\"https://www.first.org/cvss/calculator/3.1#CVSS:3.1/AV:N/AC:L/PR:L/UI:R/S:U/C:H/I:H/A:H\">\\nHigh\\n</a>\\n</li>\\n<li>\\nSECURITY-3138:\\n<a href=\"https://www.first.org/cvss/calculator/3.1#CVSS:3.1/AV:N/AC:H/PR:L/UI:N/S:U/C:L/I:L/A:N\">\\nMedium\\n</a>\\n</li>\\n<li>\\nSECURITY-3143:\\n<a href=\"https://www.first.org/cvss/calculator/3.1#CVSS:3.1/AV:N/AC:L/PR:L/UI:N/S:U/C:L/I:N/A:N\">\\nMedium\\n</a>\\n</li>\\n<li>\\nSECURITY-3155:\\n<a href=\"https://www.first.org/cvss/calculator/3.1#CVSS:3.1/AV:N/AC:L/PR:L/UI:R/S:U/C:H/I:H/A:H\">\\nHigh\\n</a>\\n</li>\\n<li>\\nSECURITY-3156:\\n<a href=\"https://www.first.org/cvss/calculator/3.1#CVSS:3.1/AV:N/AC:L/PR:L/UI:R/S:U/C:H/I:H/A:H\">\\nHigh\\n</a>\\n</li>\\n<li>\\nSECURITY-3166:\\n<a href=\"https://www.first.org/cvss/calculator/3.1#CVSS:3.1/AV:N/AC:L/PR:L/UI:R/S:U/C:H/I:H/A:H\">\\nHigh\\n</a>\\n</li>\\n</ul>\\n<h2>\\nAffected Versions\\n</h2>\\n<ul>\\n<li>\\n<strong>\\nJenkins weekly\\n</strong>\\nup to and including\\n2.399\\n</li>\\n<li>\\n<strong>\\nJenkins LTS\\n</strong>\\nup to and including\\n2.387.3\\n</li>\\n<li>\\n<strong>\\nAWS CodeCommit Trigger\\nPlugin\\n</strong>\\nup to and including\\n3.0.12\\n</li>\\n<li>\\n<strong>\\nCheckmarx\\nPlugin\\n</strong>\\nup to and including\\n2022.4.3\\n</li>\\n<li>\\n<strong>\\nDigital.ai App Management Publisher\\nPlugin\\n</strong>\\nup to and including\\n2.6\\n</li>\\n<li>\\n<strong>\\nDimensions\\nPlugin\\n</strong>\\nup to and including\\n0.9.3\\n</li>\\n<li>\\n<strong>\\nMaven Repository Server\\nPlugin\\n</strong>\\nup to and including\\n1.10\\n</li>\\n<li>\\n<strong>\\nSonargraph Integration\\nPlugin\\n</strong>\\nup to and including\\n5.0.1\\n</li>\\n<li>\\n<strong>\\nTeam Concert\\nPlugin\\n</strong>\\nup to and including\\n2.4.1\\n</li>\\n<li>\\n<strong>\\nTemplate Workflows\\nPlugin\\n</strong>\\nup to and including\\n41.v32d86a_313b_4a\\n</li>\\n</ul>\\n<h2>\\nFix\\n</h2>\\n<ul>\\n<li>\\n<strong>\\nJenkins weekly\\n</strong>\\nshould be updated to version\\n2.400\\n</li>\\n<li>\\n<strong>\\nJenkins LTS\\n</strong>\\nshould be updated to version\\n2.401.1\\n</li>\\n<li>\\n<strong>\\nCheckmarx\\nPlugin\\n</strong>\\nshould be updated to version\\n2023.2.6\\n</li>\\n<li>\\n<strong>\\nDimensions\\nPlugin\\n</strong>\\nshould be updated to version\\n0.9.3.1\\n</li>\\n<li>\\n<strong>\\nTeam Concert\\nPlugin\\n</strong>\\nshould be updated to version\\n2.4.2\\n</li>\\n</ul>\\n<p>\\nThese versions include fixes to the vulnerabilities described above. All prior versions are considered to be affected by these vulnerabilities unless otherwise indicated. </p>\\n<p>\\nAs of publication of this advisory, no fixes are available for the following plugins:\\n</p>\\n<ul>\\n<li>\\nAWS CodeCommit Trigger\\nPlugin\\n</li>\\n<li>\\nDigital.ai App Management Publisher\\nPlugin\\n</li>\\n<li>\\nMaven Repository Server\\nPlugin\\n</li>\\n<li>\\nSonargraph Integration\\nPlugin\\n</li>\\n<li>\\nTemplate Workflows\\nPlugin\\n</li>\\n</ul>\\n<p>\\n<a href=\"/security/plugins/#unresolved\">\\nLearn why we announce these issues. </a>\\n</p>\\n<h2>\\nCredit\\n</h2>\\n<p>\\nThe Jenkins project would like to thank the reporters for discovering and\\n<a href=\"/security/#reporting-vulnerabilities\">\\nreporting\\n</a>\\nthese vulnerabilities:\\n</p><ul>\\n<li>\\n<strong>\\nAlvaro MuÃ±oz (@pwntester), GitHub Security Lab\\n</strong>\\nfor\\nSECURITY-3143, SECURITY-3155, SECURITY-3156, SECURITY-3166\\n</li>\\n<li>\\n<strong>\\nCC Bomber, Kitri BoB\\n</strong>\\nfor\\nSECURITY-2951\\n</li>\\n<li>\\n<strong>\\nDaniel Beck, CloudBees Inc. </strong>\\nfor\\nSECURITY-2870\\n</li>\\n<li>\\n<strong>\\nDaniel Beck, CloudBees, Inc. </strong>\\nfor\\nSECURITY-2932\\n</li>\\n<li>\\n<strong>\\nKevin Guerroudj, CloudBees, Inc. </strong>\\nfor\\nSECURITY-3135, SECURITY-3138\\n</li>\\n<li>\\n<strong>\\nKevin Guerroudj, CloudBees, Inc. and Wadeck Follonier, CloudBees, Inc. </strong>\\nfor\\nSECURITY-2911\\n</li>\\n<li>\\n<strong>\\nTony Torralba (@atorralba), GitHub Security Lab\\n</strong>\\nfor\\nSECURITY-3099\\n</li>\\n</ul>\\n</div>\\n</div>\\n</div>\\n<script src=\"/assets/bower/anchor-js/anchor.min.js\"></script>\\n<script src=\"/assets/bower/@popperjs/core/umd/popper.min.js\"></script>\\n<script src=\"/assets/bower/bootstrap/js/bootstrap.min.js\"></script>\\n<script src=\"https://cdn.jsdelivr.net/npm/lit@2.7.6/polyfill-support.js\"></script>\\n<script src=\"https://cdn.jsdelivr.net/npm/@webcomponents/webcomponentsjs@2.8.0/webcomponents-loader.js\"></script>\\n<script data=\"ionicons\" defer=\"\" src=\"https://cdnjs.cloudflare.com/ajax/libs/ionicons/7.1.2/ionicons/ionicons.esm.js\" type=\"module\"></script>\\n<script data=\"ionicons\" defer=\"\" nomodule=\"\" src=\"https://cdnjs.cloudflare.com/ajax/libs/ionicons/7.1.2/ionicons/ionicons.js\"></script>\\n<script defer=\"\" src=\"https://cdn.jsdelivr.net/npm/@jenkinsci/jenkins-io-components/+esm\" type=\"module\"></script>\\n<script defer=\"\" nomodule=\"\" src=\"https://cdn.jsdelivr.net/npm/@jenkinsci/jenkins-io-components/\"></script>\\n<jio-footer githubbranch=\"master\" githubrepo=\"jenkins-infra/jenkins.io\" property=\"https://www.jenkins.io\" reportaproblemtemplate=\"4-bug.yml\" sourcepath=\"content/security/advisory/2023-06-14.adoc\"></jio-footer>\\n<script>\\n (function(i,s,o,g,r,a,m){i[\\'GoogleAnalyticsObject\\']=r;i[r]=i[r]||function(){\\n                    (i[r].q=i[r].q||[]).push(arguments)},i[r].l=1*new Date();a=s.createElement(o),\\n                    m=s.getElementsByTagName(o)[0];a.async=1;a.src=g;m.parentNode.insertBefore(a,m)\\n                    })(window,document,\\'script\\',\\'//www.google-analytics.com/analytics.js\\',\\'ga\\');\\n \\nga(\\'create\\', \\'UA-4216293-5\\', \\'auto\\');\\nga(\\'send\\', \\'pageview\\');\\nga(\\'set\\', \\'anonymizeIp\\', true);\\n\\n</script>\\n<script>\\n  $(function(){\\n    var $body = $(document.body);\\n    $body.on(\"keydown\", function(){\\n      $body.removeClass(\"no-outline\");\\n    })\\n  })\\n</script>\\n</body>\\n</html>\\n'"
      ]
     },
     "execution_count": 11,
     "metadata": {},
     "output_type": "execute_result"
    }
   ],
   "source": [
    "#soup = beautiful_request(URL)\n",
    "#str(soup)"
   ]
  },
  {
   "cell_type": "code",
   "execution_count": null,
   "metadata": {},
   "outputs": [],
   "source": []
  },
  {
   "cell_type": "code",
   "execution_count": null,
   "metadata": {},
   "outputs": [],
   "source": []
  },
  {
   "cell_type": "code",
   "execution_count": null,
   "metadata": {},
   "outputs": [],
   "source": []
  },
  {
   "cell_type": "code",
   "execution_count": 12,
   "metadata": {},
   "outputs": [],
   "source": [
    "# we get all this html code, let's just grab the text\n",
    "text = soup.text.split('\\n')\n",
    "#text # we get a lot of empty junk, so filter it out"
   ]
  },
  {
   "cell_type": "code",
   "execution_count": 13,
   "metadata": {},
   "outputs": [
    {
     "data": {
      "text/plain": [
       "['Jenkins Security Advisory 2023-06-14',\n",
       " 'Jenkins Security Home',\n",
       " 'For Administrators',\n",
       " 'Overview',\n",
       " 'Security Advisories',\n",
       " 'Advisory Schedule',\n",
       " 'Vulnerabilities in Plugins',\n",
       " 'How We Fix Security Issues',\n",
       " 'For Reporters',\n",
       " 'Reporting Vulnerabilities',\n",
       " 'Jenkins CNA',\n",
       " 'For Maintainers',\n",
       " 'Overview',\n",
       " 'Vulnerabilities in Plugins',\n",
       " 'Jenkins Security Team',\n",
       " 'About',\n",
       " 'Contributions',\n",
       " 'Jenkins Security Advisory 2023-06-14',\n",
       " 'This advisory announces vulnerabilities in the following Jenkins deliverables:',\n",
       " 'Jenkins (core)',\n",
       " 'AWS CodeCommit Trigger',\n",
       " 'Plugin',\n",
       " 'Checkmarx',\n",
       " 'Plugin',\n",
       " 'Digital.ai App Management Publisher',\n",
       " 'Plugin',\n",
       " 'Dimensions',\n",
       " 'Plugin',\n",
       " 'Maven Repository Server',\n",
       " 'Plugin',\n",
       " 'Sonargraph Integration',\n",
       " 'Plugin',\n",
       " 'Team Concert',\n",
       " 'Plugin',\n",
       " 'Template Workflows',\n",
       " 'Plugin',\n",
       " 'Descriptions',\n",
       " 'CSRF protection bypass vulnerability',\n",
       " 'SECURITY-3135',\n",
       " '/',\n",
       " 'CVE-2023-35141',\n",
       " 'Severity (CVSS):',\n",
       " 'High',\n",
       " 'Description:',\n",
       " 'Jenkins provides context menus for various UI elements, like links to jobs and builds, or breadcrumbs.',\n",
       " 'In Jenkins 2.399 and earlier, LTS 2.387.3 and earlier, POST requests are sent in order to load the list of context actions. If part of the URL includes insufficiently escaped user-provided values, a victim may be tricked into sending a POST request to an unexpected endpoint (e.g., the Script Console) by opening a context menu.',\n",
       " 'As of publication of this advisory, we are aware of insufficiently escaped context menu URLs for label expressions, allowing attackers with Item/Configure permissions to exploit this vulnerability.',\n",
       " 'Jenkins 2.400, LTS 2.401.1 sends GET requests to load the list of context actions.',\n",
       " 'SSL/TLS certificate validation disabled by default in Checkmarx Plugin',\n",
       " 'SECURITY-2870',\n",
       " '/',\n",
       " 'CVE-2023-35142',\n",
       " 'Severity (CVSS):',\n",
       " 'Medium',\n",
       " 'Affected plugin:',\n",
       " 'checkmarx',\n",
       " 'Description:',\n",
       " 'Checkmarx Plugin allows to globally enable or disable SSL/TLS validation for connections to the Checkmarx server. Checkmarx Plugin 2022.4.3 and earlier disables it by default. Unless changed by an administrator, it would cause all connections to the Checkmarx server to ignore SSL/TLS validation, thereby enabling potential man-in-the-middle attacks.',\n",
       " 'Checkmarx Plugin 2023.2.6 enables SSL/TLS validation by default. Administrators who do not want SSL/TLS validation for connections to the Checkmarx server to be disabled are advised to review their configuration.',\n",
       " 'Missing permission checks in Team Concert Plugin',\n",
       " 'SECURITY-2932',\n",
       " '/',\n",
       " 'CVE-2023-3315',\n",
       " 'Severity (CVSS):',\n",
       " 'Medium',\n",
       " 'Affected plugin:',\n",
       " 'teamconcert',\n",
       " 'Description:',\n",
       " 'Team Concert Plugin 2.4.1 and earlier does not perform permission checks in methods implementing form validation.',\n",
       " 'This allows attackers with Overall/Read permission to check for the existence of an attacker-specified file path on the Jenkins controller file system.',\n",
       " 'Team Concert Plugin 2.4.2 requires Overall/Administer permission for the affected form validation methods.',\n",
       " 'Missing permission check in Dimensions Plugin allows enumerating credentials IDs',\n",
       " 'SECURITY-3138',\n",
       " '/',\n",
       " 'CVE-2023-32261',\n",
       " 'Severity (CVSS):',\n",
       " 'Medium',\n",
       " 'Affected plugin:',\n",
       " 'dimensionsscm',\n",
       " 'Description:',\n",
       " 'Dimensions Plugin 0.9.3 and earlier does not perform a permission check in an HTTP endpoint.',\n",
       " 'This allows attackers with Overall/Read permission to enumerate credentials IDs of credentials stored in Jenkins. Those can be used as part of an attack to capture the credentials using another vulnerability.',\n",
       " 'An enumeration of credentials IDs in Dimensions Plugin 0.9.3.1 requires the appropriate permissions.',\n",
       " 'Exposure of system-scoped credentials in Dimensions Plugin',\n",
       " 'SECURITY-3143',\n",
       " '/',\n",
       " 'CVE-2023-32262',\n",
       " 'Severity (CVSS):',\n",
       " 'Medium',\n",
       " 'Affected plugin:',\n",
       " 'dimensionsscm',\n",
       " 'Description:',\n",
       " 'Dimensions Plugin 0.9.3 and earlier does not set the appropriate context for credentials lookup, allowing the use of System-scoped credentials otherwise reserved for the global configuration.',\n",
       " 'This allows attackers with Item/Configure permission to access and capture credentials they are not entitled to.',\n",
       " 'Dimensions Plugin 0.9.3.1 defines the appropriate context for credentials lookup.',\n",
       " 'Stored XSS vulnerability in Maven Repository Server Plugin',\n",
       " 'SECURITY-3156',\n",
       " '/',\n",
       " 'CVE-2023-35143',\n",
       " 'Severity (CVSS):',\n",
       " 'High',\n",
       " 'Affected plugin:',\n",
       " 'repository',\n",
       " 'Description:',\n",
       " 'Maven Repository Server Plugin 1.10 and earlier does not escape the versions of build artifacts on the Build Artifacts As Maven Repository page.',\n",
       " 'This results in a stored cross-site scripting (XSS) vulnerability exploitable by attackers able to control maven project versions in pom.xml.',\n",
       " 'As of publication of this advisory, there is no fix. Learn why we announce this.',\n",
       " 'Stored XSS vulnerability in Maven Repository Server Plugin',\n",
       " 'SECURITY-2951',\n",
       " '/',\n",
       " 'CVE-2023-35144',\n",
       " 'Severity (CVSS):',\n",
       " 'High',\n",
       " 'Affected plugin:',\n",
       " 'repository',\n",
       " 'Description:',\n",
       " 'Maven Repository Server Plugin 1.10 and earlier does not escape project and build display names on the Build Artifacts As Maven Repository page.',\n",
       " 'This results in a stored cross-site scripting (XSS) vulnerability exploitable by attackers able to change project or build display names.',\n",
       " 'As of publication of this advisory, there is no fix. Learn why we announce this.',\n",
       " 'Stored XSS vulnerability in Sonargraph Integration Plugin',\n",
       " 'SECURITY-3155',\n",
       " '/',\n",
       " 'CVE-2023-35145',\n",
       " 'Severity (CVSS):',\n",
       " 'High',\n",
       " 'Affected plugin:',\n",
       " 'sonargraph-integration',\n",
       " 'Description:',\n",
       " 'Sonargraph Integration Plugin 5.0.1 and earlier does not correctly escape the file path and the project name for the Log file field form validation.',\n",
       " 'This results in a stored cross-site scripting (XSS) vulnerability exploitable by attackers with Item/Configure permission.',\n",
       " 'This issue is caused by an incomplete fix of SECURITY-1775. ',\n",
       " 'As of publication of this advisory, there is no fix. Learn why we announce this.',\n",
       " 'Stored XSS vulnerability in Template Workflows Plugin',\n",
       " 'SECURITY-3166',\n",
       " '/',\n",
       " 'CVE-2023-35146',\n",
       " 'Severity (CVSS):',\n",
       " 'High',\n",
       " 'Affected plugin:',\n",
       " 'template-workflows',\n",
       " 'Description:',\n",
       " 'Template Workflows Plugin 41.v32d86a_313b_4a and earlier does not escape names of jobs used as buildings blocks for Template Workflow Job.',\n",
       " 'This results in a stored cross-site scripting (XSS) vulnerability exploitable by attackers able to create jobs.',\n",
       " 'As of publication of this advisory, there is no fix. Learn why we announce this.',\n",
       " 'Arbitrary file read vulnerability in AWS CodeCommit Trigger Plugin',\n",
       " 'SECURITY-3099',\n",
       " '/',\n",
       " 'CVE-2023-35147',\n",
       " 'Severity (CVSS):',\n",
       " 'Medium',\n",
       " 'Affected plugin:',\n",
       " 'aws-codecommit-trigger',\n",
       " 'Description:',\n",
       " 'AWS CodeCommit Trigger Plugin allows downloading activity logs of AWS Simple Queue Service (SQS) queues.',\n",
       " 'AWS CodeCommit Trigger Plugin 3.0.12 and earlier does not restrict the queue name path parameter in the corresponding HTTP endpoint, allowing attackers with Item/Read permission to obtain the contents of arbitrary files on the Jenkins controller file system.',\n",
       " 'As of publication of this advisory, there is no fix. Learn why we announce this.',\n",
       " 'CSRF vulnerability and missing permission checks in Digital.ai App Management Publisher Plugin',\n",
       " 'SECURITY-2911',\n",
       " '/',\n",
       " 'CVE-2023-35148 (CSRF), CVE-2023-35149 (missing permission check)',\n",
       " 'Severity (CVSS):',\n",
       " 'Medium',\n",
       " 'Affected plugin:',\n",
       " 'ease-plugin',\n",
       " 'Description:',\n",
       " 'Digital.ai App Management Publisher Plugin 2.6 and earlier does not perform permission checks in several HTTP endpoints.',\n",
       " 'This allows attackers with Overall/Read permission to connect to an attacker-specified URL using attacker-specified credentials IDs obtained through another method, capturing credentials stored in Jenkins.',\n",
       " 'Additionally, these HTTP endpoints do not require POST requests, resulting in a cross-site request forgery (CSRF) vulnerability.',\n",
       " 'As of publication of this advisory, there is no fix. Learn why we announce this.',\n",
       " 'Severity',\n",
       " 'SECURITY-2870:',\n",
       " 'Medium',\n",
       " 'SECURITY-2911:',\n",
       " 'Medium',\n",
       " 'SECURITY-2932:',\n",
       " 'Medium',\n",
       " 'SECURITY-2951:',\n",
       " 'High',\n",
       " 'SECURITY-3099:',\n",
       " 'Medium',\n",
       " 'SECURITY-3135:',\n",
       " 'High',\n",
       " 'SECURITY-3138:',\n",
       " 'Medium',\n",
       " 'SECURITY-3143:',\n",
       " 'Medium',\n",
       " 'SECURITY-3155:',\n",
       " 'High',\n",
       " 'SECURITY-3156:',\n",
       " 'High',\n",
       " 'SECURITY-3166:',\n",
       " 'High',\n",
       " 'Affected Versions',\n",
       " 'Jenkins weekly',\n",
       " 'up to and including',\n",
       " '2.399',\n",
       " 'Jenkins LTS',\n",
       " 'up to and including',\n",
       " '2.387.3',\n",
       " 'AWS CodeCommit Trigger',\n",
       " 'Plugin',\n",
       " 'up to and including',\n",
       " '3.0.12',\n",
       " 'Checkmarx',\n",
       " 'Plugin',\n",
       " 'up to and including',\n",
       " '2022.4.3',\n",
       " 'Digital.ai App Management Publisher',\n",
       " 'Plugin',\n",
       " 'up to and including',\n",
       " '2.6',\n",
       " 'Dimensions',\n",
       " 'Plugin',\n",
       " 'up to and including',\n",
       " '0.9.3',\n",
       " 'Maven Repository Server',\n",
       " 'Plugin',\n",
       " 'up to and including',\n",
       " '1.10',\n",
       " 'Sonargraph Integration',\n",
       " 'Plugin',\n",
       " 'up to and including',\n",
       " '5.0.1',\n",
       " 'Team Concert',\n",
       " 'Plugin',\n",
       " 'up to and including',\n",
       " '2.4.1',\n",
       " 'Template Workflows',\n",
       " 'Plugin',\n",
       " 'up to and including',\n",
       " '41.v32d86a_313b_4a',\n",
       " 'Fix',\n",
       " 'Jenkins weekly',\n",
       " 'should be updated to version',\n",
       " '2.400',\n",
       " 'Jenkins LTS',\n",
       " 'should be updated to version',\n",
       " '2.401.1',\n",
       " 'Checkmarx',\n",
       " 'Plugin',\n",
       " 'should be updated to version',\n",
       " '2023.2.6',\n",
       " 'Dimensions',\n",
       " 'Plugin',\n",
       " 'should be updated to version',\n",
       " '0.9.3.1',\n",
       " 'Team Concert',\n",
       " 'Plugin',\n",
       " 'should be updated to version',\n",
       " '2.4.2',\n",
       " 'These versions include fixes to the vulnerabilities described above. All prior versions are considered to be affected by these vulnerabilities unless otherwise indicated. ',\n",
       " 'As of publication of this advisory, no fixes are available for the following plugins:',\n",
       " 'AWS CodeCommit Trigger',\n",
       " 'Plugin',\n",
       " 'Digital.ai App Management Publisher',\n",
       " 'Plugin',\n",
       " 'Maven Repository Server',\n",
       " 'Plugin',\n",
       " 'Sonargraph Integration',\n",
       " 'Plugin',\n",
       " 'Template Workflows',\n",
       " 'Plugin',\n",
       " 'Learn why we announce these issues. ',\n",
       " 'Credit',\n",
       " 'The Jenkins project would like to thank the reporters for discovering and',\n",
       " 'reporting',\n",
       " 'these vulnerabilities:',\n",
       " 'Alvaro MuÃ±oz (@pwntester), GitHub Security Lab',\n",
       " 'for',\n",
       " 'SECURITY-3143, SECURITY-3155, SECURITY-3156, SECURITY-3166',\n",
       " 'CC Bomber, Kitri BoB',\n",
       " 'for',\n",
       " 'SECURITY-2951',\n",
       " 'Daniel Beck, CloudBees Inc. ',\n",
       " 'for',\n",
       " 'SECURITY-2870',\n",
       " 'Daniel Beck, CloudBees, Inc. ',\n",
       " 'for',\n",
       " 'SECURITY-2932',\n",
       " 'Kevin Guerroudj, CloudBees, Inc. ',\n",
       " 'for',\n",
       " 'SECURITY-3135, SECURITY-3138',\n",
       " 'Kevin Guerroudj, CloudBees, Inc. and Wadeck Follonier, CloudBees, Inc. ',\n",
       " 'for',\n",
       " 'SECURITY-2911',\n",
       " 'Tony Torralba (@atorralba), GitHub Security Lab',\n",
       " 'for',\n",
       " 'SECURITY-3099']"
      ]
     },
     "execution_count": 13,
     "metadata": {},
     "output_type": "execute_result"
    }
   ],
   "source": [
    "text = list(filter(spaces_filter, text))\n",
    "text"
   ]
  },
  {
   "cell_type": "code",
   "execution_count": 14,
   "metadata": {},
   "outputs": [
    {
     "data": {
      "text/plain": [
       "['Jenkins Security Advisory 2023-06-14',\n",
       " 'How We Fix Security Issues',\n",
       " 'Jenkins Security Advisory 2023-06-14',\n",
       " 'This advisory announces vulnerabilities in the following Jenkins deliverables:',\n",
       " 'Digital.ai App Management Publisher',\n",
       " 'CSRF protection bypass vulnerability',\n",
       " 'Jenkins provides context menus for various UI elements, like links to jobs and builds, or breadcrumbs.',\n",
       " 'In Jenkins 2.399 and earlier, LTS 2.387.3 and earlier, POST requests are sent in order to load the list of context actions. If part of the URL includes insufficiently escaped user-provided values, a victim may be tricked into sending a POST request to an unexpected endpoint (e.g., the Script Console) by opening a context menu.',\n",
       " 'As of publication of this advisory, we are aware of insufficiently escaped context menu URLs for label expressions, allowing attackers with Item/Configure permissions to exploit this vulnerability.',\n",
       " 'Jenkins 2.400, LTS 2.401.1 sends GET requests to load the list of context actions.',\n",
       " 'SSL/TLS certificate validation disabled by default in Checkmarx Plugin',\n",
       " 'Checkmarx Plugin allows to globally enable or disable SSL/TLS validation for connections to the Checkmarx server. Checkmarx Plugin 2022.4.3 and earlier disables it by default. Unless changed by an administrator, it would cause all connections to the Checkmarx server to ignore SSL/TLS validation, thereby enabling potential man-in-the-middle attacks.',\n",
       " 'Checkmarx Plugin 2023.2.6 enables SSL/TLS validation by default. Administrators who do not want SSL/TLS validation for connections to the Checkmarx server to be disabled are advised to review their configuration.',\n",
       " 'Missing permission checks in Team Concert Plugin',\n",
       " 'Team Concert Plugin 2.4.1 and earlier does not perform permission checks in methods implementing form validation.',\n",
       " 'This allows attackers with Overall/Read permission to check for the existence of an attacker-specified file path on the Jenkins controller file system.',\n",
       " 'Team Concert Plugin 2.4.2 requires Overall/Administer permission for the affected form validation methods.',\n",
       " 'Missing permission check in Dimensions Plugin allows enumerating credentials IDs',\n",
       " 'Dimensions Plugin 0.9.3 and earlier does not perform a permission check in an HTTP endpoint.',\n",
       " 'This allows attackers with Overall/Read permission to enumerate credentials IDs of credentials stored in Jenkins. Those can be used as part of an attack to capture the credentials using another vulnerability.',\n",
       " 'An enumeration of credentials IDs in Dimensions Plugin 0.9.3.1 requires the appropriate permissions.',\n",
       " 'Exposure of system-scoped credentials in Dimensions Plugin',\n",
       " 'Dimensions Plugin 0.9.3 and earlier does not set the appropriate context for credentials lookup, allowing the use of System-scoped credentials otherwise reserved for the global configuration.',\n",
       " 'This allows attackers with Item/Configure permission to access and capture credentials they are not entitled to.',\n",
       " 'Dimensions Plugin 0.9.3.1 defines the appropriate context for credentials lookup.',\n",
       " 'Stored XSS vulnerability in Maven Repository Server Plugin',\n",
       " 'Maven Repository Server Plugin 1.10 and earlier does not escape the versions of build artifacts on the Build Artifacts As Maven Repository page.',\n",
       " 'This results in a stored cross-site scripting (XSS) vulnerability exploitable by attackers able to control maven project versions in pom.xml.',\n",
       " 'As of publication of this advisory, there is no fix. Learn why we announce this.',\n",
       " 'Stored XSS vulnerability in Maven Repository Server Plugin',\n",
       " 'Maven Repository Server Plugin 1.10 and earlier does not escape project and build display names on the Build Artifacts As Maven Repository page.',\n",
       " 'This results in a stored cross-site scripting (XSS) vulnerability exploitable by attackers able to change project or build display names.',\n",
       " 'As of publication of this advisory, there is no fix. Learn why we announce this.',\n",
       " 'Stored XSS vulnerability in Sonargraph Integration Plugin',\n",
       " 'Sonargraph Integration Plugin 5.0.1 and earlier does not correctly escape the file path and the project name for the Log file field form validation.',\n",
       " 'This results in a stored cross-site scripting (XSS) vulnerability exploitable by attackers with Item/Configure permission.',\n",
       " 'This issue is caused by an incomplete fix of SECURITY-1775. ',\n",
       " 'As of publication of this advisory, there is no fix. Learn why we announce this.',\n",
       " 'Stored XSS vulnerability in Template Workflows Plugin',\n",
       " 'Template Workflows Plugin 41.v32d86a_313b_4a and earlier does not escape names of jobs used as buildings blocks for Template Workflow Job.',\n",
       " 'This results in a stored cross-site scripting (XSS) vulnerability exploitable by attackers able to create jobs.',\n",
       " 'As of publication of this advisory, there is no fix. Learn why we announce this.',\n",
       " 'Arbitrary file read vulnerability in AWS CodeCommit Trigger Plugin',\n",
       " 'AWS CodeCommit Trigger Plugin allows downloading activity logs of AWS Simple Queue Service (SQS) queues.',\n",
       " 'AWS CodeCommit Trigger Plugin 3.0.12 and earlier does not restrict the queue name path parameter in the corresponding HTTP endpoint, allowing attackers with Item/Read permission to obtain the contents of arbitrary files on the Jenkins controller file system.',\n",
       " 'As of publication of this advisory, there is no fix. Learn why we announce this.',\n",
       " 'CSRF vulnerability and missing permission checks in Digital.ai App Management Publisher Plugin',\n",
       " 'CVE-2023-35148 (CSRF), CVE-2023-35149 (missing permission check)',\n",
       " 'Digital.ai App Management Publisher Plugin 2.6 and earlier does not perform permission checks in several HTTP endpoints.',\n",
       " 'This allows attackers with Overall/Read permission to connect to an attacker-specified URL using attacker-specified credentials IDs obtained through another method, capturing credentials stored in Jenkins.',\n",
       " 'Additionally, these HTTP endpoints do not require POST requests, resulting in a cross-site request forgery (CSRF) vulnerability.',\n",
       " 'As of publication of this advisory, there is no fix. Learn why we announce this.',\n",
       " 'up to and including',\n",
       " 'up to and including',\n",
       " 'up to and including',\n",
       " 'up to and including',\n",
       " 'Digital.ai App Management Publisher',\n",
       " 'up to and including',\n",
       " 'up to and including',\n",
       " 'up to and including',\n",
       " 'up to and including',\n",
       " 'up to and including',\n",
       " 'up to and including',\n",
       " 'should be updated to version',\n",
       " 'should be updated to version',\n",
       " 'should be updated to version',\n",
       " 'should be updated to version',\n",
       " 'should be updated to version',\n",
       " 'These versions include fixes to the vulnerabilities described above. All prior versions are considered to be affected by these vulnerabilities unless otherwise indicated. ',\n",
       " 'As of publication of this advisory, no fixes are available for the following plugins:',\n",
       " 'Digital.ai App Management Publisher',\n",
       " 'Learn why we announce these issues. ',\n",
       " 'The Jenkins project would like to thank the reporters for discovering and',\n",
       " 'Alvaro MuÃ±oz (@pwntester), GitHub Security Lab',\n",
       " 'SECURITY-3143, SECURITY-3155, SECURITY-3156, SECURITY-3166',\n",
       " 'CC Bomber, Kitri BoB',\n",
       " 'Daniel Beck, CloudBees Inc. ',\n",
       " 'Daniel Beck, CloudBees, Inc. ',\n",
       " 'Kevin Guerroudj, CloudBees, Inc. ',\n",
       " 'Kevin Guerroudj, CloudBees, Inc. and Wadeck Follonier, CloudBees, Inc. ',\n",
       " 'Tony Torralba (@atorralba), GitHub Security Lab']"
      ]
     },
     "execution_count": 14,
     "metadata": {},
     "output_type": "execute_result"
    }
   ],
   "source": [
    "text = list(filter(word_count_filter, text))\n",
    "text"
   ]
  },
  {
   "cell_type": "code",
   "execution_count": 15,
   "metadata": {},
   "outputs": [],
   "source": [
    "# we need to match with this description\n",
    "nvd_description = \"\"\"CVE-2023-35141. In Jenkins 2.399 and earlier, LTS 2.387.3 and earlier, POST requests are sent in order to load the list of context actions. If part of the URL includes insufficiently escaped user-provided values, a victim may be tricked into sending a POST request to an unexpected endpoint by opening a context menu.\"\"\""
   ]
  },
  {
   "cell_type": "code",
   "execution_count": 16,
   "metadata": {},
   "outputs": [],
   "source": [
    "embedding1 = model.encode(nvd_description, convert_to_tensor=True)"
   ]
  },
  {
   "cell_type": "code",
   "execution_count": 17,
   "metadata": {},
   "outputs": [
    {
     "name": "stdout",
     "output_type": "stream",
     "text": [
      "0  -  tensor([[0.4132]]) Jenkins Security Advisory 2023-06-14\n",
      "1  -  tensor([[0.1252]]) How We Fix Security Issues\n",
      "2  -  tensor([[0.4132]]) Jenkins Security Advisory 2023-06-14\n",
      "3  -  tensor([[0.4368]]) This advisory announces vulnerabilities in the following Jenkins deliverables:\n",
      "4  -  tensor([[0.1248]]) Digital.ai App Management Publisher\n",
      "5  -  tensor([[0.3670]]) CSRF protection bypass vulnerability\n",
      "6  -  tensor([[0.3685]]) Jenkins provides context menus for various UI elements, like links to jobs and builds, or breadcrumbs.\n",
      "7  -  tensor([[0.9248]]) In Jenkins 2.399 and earlier, LTS 2.387.3 and earlier, POST requests are sent in order to load the list of context actions. If part of the URL includes insufficiently escaped user-provided values, a victim may be tricked into sending a POST request to an unexpected endpoint (e.g., the Script Console) by opening a context menu.\n",
      "8  -  tensor([[0.5226]]) As of publication of this advisory, we are aware of insufficiently escaped context menu URLs for label expressions, allowing attackers with Item/Configure permissions to exploit this vulnerability.\n",
      "9  -  tensor([[0.4651]]) Jenkins 2.400, LTS 2.401.1 sends GET requests to load the list of context actions.\n",
      "10  -  tensor([[0.3086]]) SSL/TLS certificate validation disabled by default in Checkmarx Plugin\n",
      "11  -  tensor([[0.5478]]) Checkmarx Plugin allows to globally enable or disable SSL/TLS validation for connections to the Checkmarx server. Checkmarx Plugin 2022.4.3 and earlier disables it by default. Unless changed by an administrator, it would cause all connections to the Checkmarx server to ignore SSL/TLS validation, thereby enabling potential man-in-the-middle attacks.\n",
      "12  -  tensor([[0.3715]]) Checkmarx Plugin 2023.2.6 enables SSL/TLS validation by default. Administrators who do not want SSL/TLS validation for connections to the Checkmarx server to be disabled are advised to review their configuration.\n",
      "13  -  tensor([[0.3619]]) Missing permission checks in Team Concert Plugin\n",
      "14  -  tensor([[0.3036]]) Team Concert Plugin 2.4.1 and earlier does not perform permission checks in methods implementing form validation.\n",
      "15  -  tensor([[0.5630]]) This allows attackers with Overall/Read permission to check for the existence of an attacker-specified file path on the Jenkins controller file system.\n",
      "16  -  tensor([[0.2200]]) Team Concert Plugin 2.4.2 requires Overall/Administer permission for the affected form validation methods.\n",
      "17  -  tensor([[0.5025]]) Missing permission check in Dimensions Plugin allows enumerating credentials IDs\n",
      "18  -  tensor([[0.4735]]) Dimensions Plugin 0.9.3 and earlier does not perform a permission check in an HTTP endpoint.\n",
      "19  -  tensor([[0.6027]]) This allows attackers with Overall/Read permission to enumerate credentials IDs of credentials stored in Jenkins. Those can be used as part of an attack to capture the credentials using another vulnerability.\n",
      "20  -  tensor([[0.3646]]) An enumeration of credentials IDs in Dimensions Plugin 0.9.3.1 requires the appropriate permissions.\n",
      "21  -  tensor([[0.2452]]) Exposure of system-scoped credentials in Dimensions Plugin\n",
      "22  -  tensor([[0.4875]]) Dimensions Plugin 0.9.3 and earlier does not set the appropriate context for credentials lookup, allowing the use of System-scoped credentials otherwise reserved for the global configuration.\n",
      "23  -  tensor([[0.4738]]) This allows attackers with Item/Configure permission to access and capture credentials they are not entitled to.\n",
      "24  -  tensor([[0.4040]]) Dimensions Plugin 0.9.3.1 defines the appropriate context for credentials lookup.\n",
      "25  -  tensor([[0.2891]]) Stored XSS vulnerability in Maven Repository Server Plugin\n",
      "26  -  tensor([[0.2042]]) Maven Repository Server Plugin 1.10 and earlier does not escape the versions of build artifacts on the Build Artifacts As Maven Repository page.\n",
      "27  -  tensor([[0.3750]]) This results in a stored cross-site scripting (XSS) vulnerability exploitable by attackers able to control maven project versions in pom.xml.\n",
      "28  -  tensor([[0.1253]]) As of publication of this advisory, there is no fix. Learn why we announce this.\n",
      "29  -  tensor([[0.2891]]) Stored XSS vulnerability in Maven Repository Server Plugin\n",
      "30  -  tensor([[0.2175]]) Maven Repository Server Plugin 1.10 and earlier does not escape project and build display names on the Build Artifacts As Maven Repository page.\n",
      "31  -  tensor([[0.4065]]) This results in a stored cross-site scripting (XSS) vulnerability exploitable by attackers able to change project or build display names.\n",
      "32  -  tensor([[0.1253]]) As of publication of this advisory, there is no fix. Learn why we announce this.\n",
      "33  -  tensor([[0.2713]]) Stored XSS vulnerability in Sonargraph Integration Plugin\n",
      "34  -  tensor([[0.2954]]) Sonargraph Integration Plugin 5.0.1 and earlier does not correctly escape the file path and the project name for the Log file field form validation.\n",
      "35  -  tensor([[0.4342]]) This results in a stored cross-site scripting (XSS) vulnerability exploitable by attackers with Item/Configure permission.\n",
      "36  -  tensor([[0.3135]]) This issue is caused by an incomplete fix of SECURITY-1775. \n",
      "37  -  tensor([[0.1253]]) As of publication of this advisory, there is no fix. Learn why we announce this.\n",
      "38  -  tensor([[0.2501]]) Stored XSS vulnerability in Template Workflows Plugin\n",
      "39  -  tensor([[0.2421]]) Template Workflows Plugin 41.v32d86a_313b_4a and earlier does not escape names of jobs used as buildings blocks for Template Workflow Job.\n",
      "40  -  tensor([[0.3484]]) This results in a stored cross-site scripting (XSS) vulnerability exploitable by attackers able to create jobs.\n",
      "41  -  tensor([[0.1253]]) As of publication of this advisory, there is no fix. Learn why we announce this.\n",
      "42  -  tensor([[0.4889]]) Arbitrary file read vulnerability in AWS CodeCommit Trigger Plugin\n",
      "43  -  tensor([[0.3867]]) AWS CodeCommit Trigger Plugin allows downloading activity logs of AWS Simple Queue Service (SQS) queues.\n",
      "44  -  tensor([[0.5575]]) AWS CodeCommit Trigger Plugin 3.0.12 and earlier does not restrict the queue name path parameter in the corresponding HTTP endpoint, allowing attackers with Item/Read permission to obtain the contents of arbitrary files on the Jenkins controller file system.\n",
      "45  -  tensor([[0.1253]]) As of publication of this advisory, there is no fix. Learn why we announce this.\n",
      "46  -  tensor([[0.4445]]) CSRF vulnerability and missing permission checks in Digital.ai App Management Publisher Plugin\n",
      "47  -  tensor([[0.5426]]) CVE-2023-35148 (CSRF), CVE-2023-35149 (missing permission check)\n",
      "48  -  tensor([[0.2660]]) Digital.ai App Management Publisher Plugin 2.6 and earlier does not perform permission checks in several HTTP endpoints.\n",
      "49  -  tensor([[0.5819]]) This allows attackers with Overall/Read permission to connect to an attacker-specified URL using attacker-specified credentials IDs obtained through another method, capturing credentials stored in Jenkins.\n"
     ]
    }
   ],
   "source": [
    "scores = []\n",
    "for i, line in enumerate(text[:50]):\n",
    "    embedding2 = model.encode(line, convert_to_tensor=True)\n",
    "    # compute similarity scores of two embeddings\n",
    "    cosine_scores = util.pytorch_cos_sim(embedding1, embedding2)\n",
    "    print(i, ' - ', cosine_scores, line)\n",
    "    scores.append((i, cosine_scores))"
   ]
  },
  {
   "cell_type": "code",
   "execution_count": 18,
   "metadata": {},
   "outputs": [],
   "source": [
    "vals = [float(t) for _, t in scores]\n",
    "#max(vals)"
   ]
  },
  {
   "cell_type": "code",
   "execution_count": 19,
   "metadata": {},
   "outputs": [
    {
     "data": {
      "text/plain": [
       "(0.9248215556144714, 0.12482902407646179)"
      ]
     },
     "execution_count": 19,
     "metadata": {},
     "output_type": "execute_result"
    }
   ],
   "source": [
    "max(vals), min(vals)"
   ]
  },
  {
   "cell_type": "code",
   "execution_count": 20,
   "metadata": {},
   "outputs": [
    {
     "data": {
      "text/plain": [
       "'CSRF vulnerability and missing permission checks in Digital.ai App Management Publisher Plugin'"
      ]
     },
     "execution_count": 20,
     "metadata": {},
     "output_type": "execute_result"
    }
   ],
   "source": [
    "text[46]"
   ]
  },
  {
   "cell_type": "code",
   "execution_count": 21,
   "metadata": {},
   "outputs": [],
   "source": [
    "import pandas as pd\n",
    "s = pd.Series(vals)"
   ]
  },
  {
   "cell_type": "code",
   "execution_count": 22,
   "metadata": {},
   "outputs": [
    {
     "data": {
      "text/plain": [
       "<AxesSubplot: >"
      ]
     },
     "execution_count": 22,
     "metadata": {},
     "output_type": "execute_result"
    },
    {
     "data": {
      "image/png": "[encoded data removed]",
      "text/plain": [
       "<Figure size 640x480 with 1 Axes>"
      ]
     },
     "metadata": {},
     "output_type": "display_data"
    }
   ],
   "source": [
    "s.hist()"
   ]
  },
  {
   "cell_type": "code",
   "execution_count": 23,
   "metadata": {},
   "outputs": [
    {
     "data": {
      "text/plain": [
       "0.4    0.311531\n",
       "0.5    0.367751\n",
       "0.6    0.405008\n",
       "0.7    0.439075\n",
       "0.8    0.487773\n",
       "0.9    0.548741\n",
       "dtype: float64"
      ]
     },
     "execution_count": 23,
     "metadata": {},
     "output_type": "execute_result"
    }
   ],
   "source": [
    "s.quantile(q = [0.4, 0.5, 0.6, 0.7, 0.8, 0.9])"
   ]
  },
  {
   "cell_type": "code",
   "execution_count": 25,
   "metadata": {},
   "outputs": [],
   "source": [
    "scores.sort(key=lambda x: x[1], reverse=True)"
   ]
  },
  {
   "cell_type": "code",
   "execution_count": null,
   "metadata": {},
   "outputs": [],
   "source": []
  },
  {
   "cell_type": "code",
   "execution_count": null,
   "metadata": {},
   "outputs": [],
   "source": []
  }
 ],
 "metadata": {
  "kernelspec": {
   "display_name": "base",
   "language": "python",
   "name": "python3"
  },
  "language_info": {
   "codemirror_mode": {
    "name": "ipython",
    "version": 3
   },
   "file_extension": ".py",
   "mimetype": "text/x-python",
   "name": "python",
   "nbconvert_exporter": "python",
   "pygments_lexer": "ipython3",
   "version": "3.9.12"
  },
  "orig_nbformat": 4
 },
 "nbformat": 4,
 "nbformat_minor": 2
}
